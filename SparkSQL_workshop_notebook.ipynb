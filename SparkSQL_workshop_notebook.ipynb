{
  "cells": [
    {
      "cell_type": "markdown",
      "metadata": {
        "id": "xDfYQD8eC6Ui"
      },
      "source": [
        "<h1>UCL School of Management</h1>\n",
        "<h2>MSIN0166 Data Engineering</h2>\n",
        "<h4>SparkSQL workshop - Theory & Practice</h4>"
      ]
    },
    {
      "cell_type": "markdown",
      "metadata": {
        "id": "vDY5mUOLX6wU"
      },
      "source": [
        "<img src=\"https://databricks.com/wp-content/uploads/2015/03/Screen-Shot-2015-03-23-at-3.42.56-PM.png\"></img>\n",
        "\n",
        "\n"
      ]
    },
    {
      "cell_type": "markdown",
      "metadata": {
        "id": "GmvlOQ6iFDQ1"
      },
      "source": [
        "# What is Spark SQL?\n",
        "\n",
        "Many data scientists, analysts, and general business intelligence users rely on interactive SQL queries for exploring data. Spark SQL is a Spark module for structured data processing. It provides a programming abstraction called DataFrames and can also act as a distributed SQL query engine. \n",
        "\n",
        "- Spark SQL enables unmodified Hadoop Hive queries to run up to 100x faster on existing deployments and data. It also provides powerful integration with the rest of the Spark ecosystem (e.g., integrating SQL query processing with machine learning).\n",
        "\n",
        "- It brings native support for SQL to Spark and streamlines the process of querying data stored both in RDDs (Spark’s distributed datasets) and in external sources. It conveniently blurs the lines between RDDs and relational tables. Unifying these powerful abstractions makes it easy for developers to intermix SQL commands querying external data with complex analytics, all within in a single application. \n",
        "\n",
        "- Spark SQL also includes a cost-based optimizer, columnar storage, and code generation to make queries fast. At the same time, it scales to thousands of nodes and multi-hour queries using the Spark engine, which provides full mid-query fault tolerance, without having to worry about using a different engine for historical data.\n",
        "\n",
        "*Source: Databricks*\n",
        "\n",
        "For more details, go through Spark documentation: https://spark.apache.org/docs/latest/\n",
        "\n",
        "<br/>\n",
        "\n",
        "# Why use Spark SQL\n",
        "- Query data stored in various formats (e.g. Parquet, Hive tables) by using SQL\n",
        "- Reduce amount of time spent for processing queries\n",
        "- Conduct data analysis at scale\n",
        "- Reduce time spent on reading documentation (e.g. Pandas documentation) for data cleaning, processing or querying and use SQL instead.\n"
      ]
    },
    {
      "cell_type": "markdown",
      "metadata": {
        "id": "MTPChqnyME8s"
      },
      "source": [
        "## Spark SQL: definition & facts\n",
        "\n"
      ]
    },
    {
      "cell_type": "markdown",
      "metadata": {
        "id": "3Pk3QLigNl-S"
      },
      "source": [
        "\n",
        "**Spark SQL**: Spark SQL is a Spark module for structured data processing. It provides a programming abstraction called DataFrames and can also act as distributed SQL query engine. It also provides powerful integration with the rest of the Spark ecosystem (e.g., integrating SQL query processing with machine learning).\n",
        "\n",
        "<br/>\n",
        "\n",
        " **Did you know?** \n",
        "\n",
        "1. SQL was invented by IBM researchers Raymond Boyce and Donald Chamberlin. The programming language, known then as SEQUEL, was created following the publishing of Edgar Frank Todd's paper, \"A Relational Model of Data for Large Shared Data Banks,\" in 1970.\n",
        "<br/>\n",
        "<br/>\n",
        "2. There are five types of SQL Commands which can be classified as:\n",
        "\n",
        "    - DDL(Data Definition Language).\n",
        "    - DML(Data Manipulation Language).\n",
        "    - DQL(Data Query Language).\n",
        "    - DCL(Data Control Language).\n",
        "    - TCL(Transaction Control Language).\n"
      ]
    },
    {
      "cell_type": "markdown",
      "metadata": {
        "id": "6XzzfLT2b1_h"
      },
      "source": [
        "## Prerequisite code\n",
        "**Note**: Please run the cells below before any other code cell execution"
      ]
    },
    {
      "cell_type": "markdown",
      "metadata": {
        "id": "8jE0tOGoZUnx"
      },
      "source": [
        "Let's by mounting the Google Drive to the Colab environment. This will allow us to access the data files from the Google Drive and use it to save the output files and rest of configuration files:"
      ]
    },
    {
      "cell_type": "code",
      "execution_count": null,
      "metadata": {
        "colab": {
          "base_uri": "https://localhost:8080/"
        },
        "id": "Vfr5DdfKZUnz",
        "outputId": "e6c0bc83-9060-40db-9864-c30ea40f1861"
      },
      "outputs": [
        {
          "output_type": "stream",
          "name": "stdout",
          "text": [
            "Mounted at /content/drive\n"
          ]
        }
      ],
      "source": [
        "# Load the Drive helper and mount\n",
        "from google.colab import drive\n",
        "\n",
        "# This will prompt for authorization.\n",
        "drive.mount('/content/drive')"
      ]
    },
    {
      "cell_type": "markdown",
      "metadata": {
        "id": "6J_x4ke9ZUn0"
      },
      "source": [
        "Let's remove any old installations of Spark and install the Spark 3.2.3 version:"
      ]
    },
    {
      "cell_type": "code",
      "execution_count": null,
      "metadata": {
        "colab": {
          "base_uri": "https://localhost:8080/"
        },
        "id": "A2RngDmbZUn2",
        "outputId": "99837543-de2c-48c2-e1d5-33797ff81c27"
      },
      "outputs": [
        {
          "output_type": "stream",
          "name": "stdout",
          "text": [
            "rm: cannot remove 'spark*': No such file or directory\n"
          ]
        }
      ],
      "source": [
        "# remove old spark installations if needed\n",
        "!rm -dr spark*"
      ]
    },
    {
      "cell_type": "markdown",
      "metadata": {
        "id": "KbupgZjKZUn3"
      },
      "source": [
        "The next step is to set up the environment variables for the versions of Spark and Hadoop:"
      ]
    },
    {
      "cell_type": "code",
      "execution_count": null,
      "metadata": {
        "colab": {
          "base_uri": "https://localhost:8080/"
        },
        "id": "L_v1830uZUn4",
        "outputId": "5837b618-64be-4a40-b695-92568c309293"
      },
      "outputs": [
        {
          "output_type": "stream",
          "name": "stdout",
          "text": [
            "env: SPARK_VERSION=spark-3.2.3\n",
            "env: HADOOP_VERSION=3.2\n",
            "spark-3.2.3\n"
          ]
        }
      ],
      "source": [
        "%env SPARK_VERSION=spark-3.2.3\n",
        "%env HADOOP_VERSION=3.2\n",
        "!echo $SPARK_VERSION"
      ]
    },
    {
      "cell_type": "markdown",
      "metadata": {
        "id": "x3KPfiATZUn4"
      },
      "source": [
        "The next step is to install the Java 8 version and Hadoop 3.2.3 version. **Notice that the Hadoop version should be the same as the Spark version**:"
      ]
    },
    {
      "cell_type": "code",
      "execution_count": null,
      "metadata": {
        "id": "Z-arTSWMZUn5"
      },
      "outputs": [],
      "source": [
        "!apt-get install openjdk-8-jdk-headless -qq > /dev/null\n",
        "!wget -q https://downloads.apache.org/spark/$SPARK_VERSION/$SPARK_VERSION-bin-hadoop$HADOOP_VERSION.tgz\n",
        "!tar xf $SPARK_VERSION-bin-hadoop$HADOOP_VERSION.tgz"
      ]
    },
    {
      "cell_type": "markdown",
      "metadata": {
        "id": "bIDuZsNRZUn9"
      },
      "source": [
        "Let's install the Python libraries to work with Spark like PySpark and findspark (to find the Spark installation and validate that the installation is correct):"
      ]
    },
    {
      "cell_type": "code",
      "execution_count": null,
      "metadata": {
        "colab": {
          "base_uri": "https://localhost:8080/"
        },
        "id": "usNYMJ8ZZUn9",
        "outputId": "e87a0244-ab41-4e15-e4c4-da04fa14f552"
      },
      "outputs": [
        {
          "output_type": "stream",
          "name": "stdout",
          "text": [
            "Looking in indexes: https://pypi.org/simple, https://us-python.pkg.dev/colab-wheels/public/simple/\n",
            "Collecting pyspark\n",
            "  Downloading pyspark-3.3.1.tar.gz (281.4 MB)\n",
            "\u001b[2K     \u001b[90m━━━━━━━━━━━━━━━━━━━━━━━━━━━━━━━━━━━━━━━\u001b[0m \u001b[32m281.4/281.4 MB\u001b[0m \u001b[31m4.9 MB/s\u001b[0m eta \u001b[36m0:00:00\u001b[0m\n",
            "\u001b[?25h  Preparing metadata (setup.py) ... \u001b[?25l\u001b[?25hdone\n",
            "Collecting py4j==0.10.9.5\n",
            "  Downloading py4j-0.10.9.5-py2.py3-none-any.whl (199 kB)\n",
            "\u001b[2K     \u001b[90m━━━━━━━━━━━━━━━━━━━━━━━━━━━━━━━━━━━━━━\u001b[0m \u001b[32m199.7/199.7 KB\u001b[0m \u001b[31m18.7 MB/s\u001b[0m eta \u001b[36m0:00:00\u001b[0m\n",
            "\u001b[?25hBuilding wheels for collected packages: pyspark\n",
            "  Building wheel for pyspark (setup.py) ... \u001b[?25l\u001b[?25hdone\n",
            "  Created wheel for pyspark: filename=pyspark-3.3.1-py2.py3-none-any.whl size=281845512 sha256=5b013c0c3d77e8ffdce39ba95b47d6c593aeb8725ff5ba84561d27634c26a123\n",
            "  Stored in directory: /root/.cache/pip/wheels/43/dc/11/ec201cd671da62fa9c5cc77078235e40722170ceba231d7598\n",
            "Successfully built pyspark\n",
            "Installing collected packages: py4j, pyspark\n",
            "Successfully installed py4j-0.10.9.5 pyspark-3.3.1\n"
          ]
        }
      ],
      "source": [
        "!pip install -q findspark\n",
        "!pip install pyspark"
      ]
    },
    {
      "cell_type": "markdown",
      "metadata": {
        "id": "RQAFYduLZUn6"
      },
      "source": [
        "Finally, let's set the environment variables for JAVA_HOME and SPARK_HOME file paths:"
      ]
    },
    {
      "cell_type": "code",
      "execution_count": null,
      "metadata": {
        "colab": {
          "base_uri": "https://localhost:8080/"
        },
        "id": "1Aook-A3ZUn6",
        "outputId": "5c216fbf-b58f-495c-fdae-e348ad24fb4d"
      },
      "outputs": [
        {
          "output_type": "stream",
          "name": "stdout",
          "text": [
            "spark-3.2.3\n",
            "env: JAVA_HOME=/usr/lib/jvm/java-8-openjdk-amd64\n",
            "openjdk version \"11.0.17\" 2022-10-18\n",
            "OpenJDK Runtime Environment (build 11.0.17+8-post-Ubuntu-1ubuntu220.04)\n",
            "OpenJDK 64-Bit Server VM (build 11.0.17+8-post-Ubuntu-1ubuntu220.04, mixed mode, sharing)\n",
            "Python 3.8.10\n",
            "/content/spark-3.2.3-bin-hadoop3.2\n"
          ]
        }
      ],
      "source": [
        "import os\n",
        "\n",
        "!echo $SPARK_VERSION\n",
        "%env JAVA_HOME=/usr/lib/jvm/java-8-openjdk-amd64\n",
        "# os.environ[\"SPARK_HOME\"] = \"/content/spark-3.2-bin-hadoop3.2\"\n",
        "# %env SPARK_HOME=/content/$SPARK_VERSION-bin-hadoop3.2\n",
        "\n",
        "os.environ[\"SPARK_HOME\"] = \"/content/\" + os.environ[\"SPARK_VERSION\"] + \"-bin-hadoop\" + os.environ[\"HADOOP_VERSION\"]\n",
        "\n",
        "# !update-alternatives --set java /usr/lib/jvm/java-8-openjdk-amd64/jre/bin/java\n",
        "\n",
        "# Print the versions\n",
        "!java -version\n",
        "!python --version\n",
        "!echo $SPARK_HOME"
      ]
    },
    {
      "cell_type": "markdown",
      "metadata": {
        "id": "nrxvCuGLZUn8"
      },
      "source": [
        "Once everything is set up, let's check that the installation was successful using `findspark`:"
      ]
    },
    {
      "cell_type": "code",
      "execution_count": null,
      "metadata": {
        "id": "CLhKrQ5BZUn8"
      },
      "outputs": [],
      "source": [
        "import findspark\n",
        "findspark.init()"
      ]
    },
    {
      "cell_type": "markdown",
      "metadata": {
        "id": "K2dvIxvUZUn7"
      },
      "source": [
        "Set JAVA_HOME to PATH:"
      ]
    },
    {
      "cell_type": "code",
      "execution_count": null,
      "metadata": {
        "colab": {
          "base_uri": "https://localhost:8080/"
        },
        "id": "LrTUjyhMZUn8",
        "outputId": "a5b0d484-ec11-4f5d-c705-cb0798666601"
      },
      "outputs": [
        {
          "output_type": "stream",
          "name": "stdout",
          "text": [
            "total 294092\n",
            "drwx------  5 root root      4096 Feb 13 18:54 drive\n",
            "drwxr-xr-x  1 root root      4096 Feb 10 14:33 sample_data\n",
            "drwxr-xr-x 13  501 1000      4096 Nov 14 17:54 spark-3.2.3-bin-hadoop3.2\n",
            "-rw-r--r--  1 root root 301136158 Nov 14 18:47 spark-3.2.3-bin-hadoop3.2.tgz\n",
            "/usr/lib/jvm/java-8-openjdk-amd64/bin\n",
            "/opt/bin:/usr/local/nvidia/bin:/usr/local/cuda/bin:/usr/local/sbin:/usr/local/bin:/usr/sbin:/usr/bin:/sbin:/bin:/tools/node/bin:/tools/google-cloud-sdk/bin\n"
          ]
        }
      ],
      "source": [
        "!ls -l\n",
        "\n",
        "!echo $JAVA_HOME/bin\n",
        "!export PATH=$PATH:$JAVA_HOME/bin\n",
        "!echo $PATH"
      ]
    },
    {
      "cell_type": "markdown",
      "metadata": {
        "id": "-CTQcv5hZUn9"
      },
      "source": [
        "Since we are going to be reading files from S3, we need to install the AWS CLI and configure it with the AWS credentials. Then, we install `s3fs` to mount our S3 Bucket as a filesystem that Pandas can read from:"
      ]
    },
    {
      "cell_type": "code",
      "execution_count": null,
      "metadata": {
        "colab": {
          "base_uri": "https://localhost:8080/"
        },
        "id": "oFEH0hz4ZUn-",
        "outputId": "fefa6d38-a865-4896-a34b-514b3fa62c25"
      },
      "outputs": [
        {
          "output_type": "stream",
          "name": "stdout",
          "text": [
            "Looking in indexes: https://pypi.org/simple, https://us-python.pkg.dev/colab-wheels/public/simple/\n",
            "Collecting awscli\n",
            "  Downloading awscli-1.27.69-py3-none-any.whl (4.0 MB)\n",
            "\u001b[2K     \u001b[90m━━━━━━━━━━━━━━━━━━━━━━━━━━━━━━━━━━━━━━━━\u001b[0m \u001b[32m4.0/4.0 MB\u001b[0m \u001b[31m34.8 MB/s\u001b[0m eta \u001b[36m0:00:00\u001b[0m\n",
            "\u001b[?25hCollecting PyYAML<5.5,>=3.10\n",
            "  Downloading PyYAML-5.4.1-cp38-cp38-manylinux1_x86_64.whl (662 kB)\n",
            "\u001b[2K     \u001b[90m━━━━━━━━━━━━━━━━━━━━━━━━━━━━━━━━━━━━━━\u001b[0m \u001b[32m662.4/662.4 KB\u001b[0m \u001b[31m51.4 MB/s\u001b[0m eta \u001b[36m0:00:00\u001b[0m\n",
            "\u001b[?25hCollecting colorama<0.4.5,>=0.2.5\n",
            "  Downloading colorama-0.4.4-py2.py3-none-any.whl (16 kB)\n",
            "Collecting rsa<4.8,>=3.1.2\n",
            "  Downloading rsa-4.7.2-py3-none-any.whl (34 kB)\n",
            "Collecting s3transfer<0.7.0,>=0.6.0\n",
            "  Downloading s3transfer-0.6.0-py3-none-any.whl (79 kB)\n",
            "\u001b[2K     \u001b[90m━━━━━━━━━━━━━━━━━━━━━━━━━━━━━━━━━━━━━━━━\u001b[0m \u001b[32m79.6/79.6 KB\u001b[0m \u001b[31m5.5 MB/s\u001b[0m eta \u001b[36m0:00:00\u001b[0m\n",
            "\u001b[?25hRequirement already satisfied: docutils<0.17,>=0.10 in /usr/local/lib/python3.8/dist-packages (from awscli) (0.16)\n",
            "Collecting botocore==1.29.69\n",
            "  Downloading botocore-1.29.69-py3-none-any.whl (10.4 MB)\n",
            "\u001b[2K     \u001b[90m━━━━━━━━━━━━━━━━━━━━━━━━━━━━━━━━━━━━━━━━\u001b[0m \u001b[32m10.4/10.4 MB\u001b[0m \u001b[31m50.9 MB/s\u001b[0m eta \u001b[36m0:00:00\u001b[0m\n",
            "\u001b[?25hRequirement already satisfied: python-dateutil<3.0.0,>=2.1 in /usr/local/lib/python3.8/dist-packages (from botocore==1.29.69->awscli) (2.8.2)\n",
            "Collecting urllib3<1.27,>=1.25.4\n",
            "  Downloading urllib3-1.26.14-py2.py3-none-any.whl (140 kB)\n",
            "\u001b[2K     \u001b[90m━━━━━━━━━━━━━━━━━━━━━━━━━━━━━━━━━━━━━━\u001b[0m \u001b[32m140.6/140.6 KB\u001b[0m \u001b[31m13.4 MB/s\u001b[0m eta \u001b[36m0:00:00\u001b[0m\n",
            "\u001b[?25hCollecting jmespath<2.0.0,>=0.7.1\n",
            "  Downloading jmespath-1.0.1-py3-none-any.whl (20 kB)\n",
            "Requirement already satisfied: pyasn1>=0.1.3 in /usr/local/lib/python3.8/dist-packages (from rsa<4.8,>=3.1.2->awscli) (0.4.8)\n",
            "Requirement already satisfied: six>=1.5 in /usr/local/lib/python3.8/dist-packages (from python-dateutil<3.0.0,>=2.1->botocore==1.29.69->awscli) (1.15.0)\n",
            "Installing collected packages: urllib3, rsa, PyYAML, jmespath, colorama, botocore, s3transfer, awscli\n",
            "  Attempting uninstall: urllib3\n",
            "    Found existing installation: urllib3 1.24.3\n",
            "    Uninstalling urllib3-1.24.3:\n",
            "      Successfully uninstalled urllib3-1.24.3\n",
            "  Attempting uninstall: rsa\n",
            "    Found existing installation: rsa 4.9\n",
            "    Uninstalling rsa-4.9:\n",
            "      Successfully uninstalled rsa-4.9\n",
            "  Attempting uninstall: PyYAML\n",
            "    Found existing installation: PyYAML 6.0\n",
            "    Uninstalling PyYAML-6.0:\n",
            "      Successfully uninstalled PyYAML-6.0\n",
            "Successfully installed PyYAML-5.4.1 awscli-1.27.69 botocore-1.29.69 colorama-0.4.4 jmespath-1.0.1 rsa-4.7.2 s3transfer-0.6.0 urllib3-1.26.14\n"
          ]
        }
      ],
      "source": [
        "!pip install awscli"
      ]
    },
    {
      "cell_type": "code",
      "execution_count": null,
      "metadata": {
        "id": "EYGXbbcmZUn_"
      },
      "outputs": [],
      "source": [
        "!aws configure set aws_access_key_id your_access_key\n",
        "!aws configure set aws_secret_access_key your_access_secret_key"
      ]
    },
    {
      "cell_type": "code",
      "source": [
        "!pip install s3fs"
      ],
      "metadata": {
        "colab": {
          "base_uri": "https://localhost:8080/"
        },
        "id": "gwmTPxYKepL0",
        "outputId": "654f6d9f-9840-446f-a59b-f13a8d6817a4"
      },
      "execution_count": null,
      "outputs": [
        {
          "output_type": "stream",
          "name": "stdout",
          "text": [
            "Looking in indexes: https://pypi.org/simple, https://us-python.pkg.dev/colab-wheels/public/simple/\n",
            "Collecting s3fs\n",
            "  Downloading s3fs-2023.1.0-py3-none-any.whl (27 kB)\n",
            "Requirement already satisfied: aiohttp!=4.0.0a0,!=4.0.0a1 in /usr/local/lib/python3.8/dist-packages (from s3fs) (3.8.3)\n",
            "Collecting aiobotocore~=2.4.2\n",
            "  Downloading aiobotocore-2.4.2-py3-none-any.whl (66 kB)\n",
            "\u001b[2K     \u001b[90m━━━━━━━━━━━━━━━━━━━━━━━━━━━━━━━━━━━━━━━━\u001b[0m \u001b[32m66.8/66.8 KB\u001b[0m \u001b[31m3.9 MB/s\u001b[0m eta \u001b[36m0:00:00\u001b[0m\n",
            "\u001b[?25hRequirement already satisfied: fsspec==2023.1.0 in /usr/local/lib/python3.8/dist-packages (from s3fs) (2023.1.0)\n",
            "Requirement already satisfied: wrapt>=1.10.10 in /usr/local/lib/python3.8/dist-packages (from aiobotocore~=2.4.2->s3fs) (1.14.1)\n",
            "Collecting aioitertools>=0.5.1\n",
            "  Downloading aioitertools-0.11.0-py3-none-any.whl (23 kB)\n",
            "Collecting botocore<1.27.60,>=1.27.59\n",
            "  Downloading botocore-1.27.59-py3-none-any.whl (9.1 MB)\n",
            "\u001b[2K     \u001b[90m━━━━━━━━━━━━━━━━━━━━━━━━━━━━━━━━━━━━━━━━\u001b[0m \u001b[32m9.1/9.1 MB\u001b[0m \u001b[31m48.8 MB/s\u001b[0m eta \u001b[36m0:00:00\u001b[0m\n",
            "\u001b[?25hRequirement already satisfied: frozenlist>=1.1.1 in /usr/local/lib/python3.8/dist-packages (from aiohttp!=4.0.0a0,!=4.0.0a1->s3fs) (1.3.3)\n",
            "Requirement already satisfied: aiosignal>=1.1.2 in /usr/local/lib/python3.8/dist-packages (from aiohttp!=4.0.0a0,!=4.0.0a1->s3fs) (1.3.1)\n",
            "Requirement already satisfied: multidict<7.0,>=4.5 in /usr/local/lib/python3.8/dist-packages (from aiohttp!=4.0.0a0,!=4.0.0a1->s3fs) (6.0.4)\n",
            "Requirement already satisfied: yarl<2.0,>=1.0 in /usr/local/lib/python3.8/dist-packages (from aiohttp!=4.0.0a0,!=4.0.0a1->s3fs) (1.8.2)\n",
            "Requirement already satisfied: attrs>=17.3.0 in /usr/local/lib/python3.8/dist-packages (from aiohttp!=4.0.0a0,!=4.0.0a1->s3fs) (22.2.0)\n",
            "Requirement already satisfied: async-timeout<5.0,>=4.0.0a3 in /usr/local/lib/python3.8/dist-packages (from aiohttp!=4.0.0a0,!=4.0.0a1->s3fs) (4.0.2)\n",
            "Requirement already satisfied: charset-normalizer<3.0,>=2.0 in /usr/local/lib/python3.8/dist-packages (from aiohttp!=4.0.0a0,!=4.0.0a1->s3fs) (2.1.1)\n",
            "Requirement already satisfied: typing_extensions>=4.0 in /usr/local/lib/python3.8/dist-packages (from aioitertools>=0.5.1->aiobotocore~=2.4.2->s3fs) (4.4.0)\n",
            "Requirement already satisfied: jmespath<2.0.0,>=0.7.1 in /usr/local/lib/python3.8/dist-packages (from botocore<1.27.60,>=1.27.59->aiobotocore~=2.4.2->s3fs) (1.0.1)\n",
            "Requirement already satisfied: python-dateutil<3.0.0,>=2.1 in /usr/local/lib/python3.8/dist-packages (from botocore<1.27.60,>=1.27.59->aiobotocore~=2.4.2->s3fs) (2.8.2)\n",
            "Requirement already satisfied: urllib3<1.27,>=1.25.4 in /usr/local/lib/python3.8/dist-packages (from botocore<1.27.60,>=1.27.59->aiobotocore~=2.4.2->s3fs) (1.26.14)\n",
            "Requirement already satisfied: idna>=2.0 in /usr/local/lib/python3.8/dist-packages (from yarl<2.0,>=1.0->aiohttp!=4.0.0a0,!=4.0.0a1->s3fs) (2.10)\n",
            "Requirement already satisfied: six>=1.5 in /usr/local/lib/python3.8/dist-packages (from python-dateutil<3.0.0,>=2.1->botocore<1.27.60,>=1.27.59->aiobotocore~=2.4.2->s3fs) (1.15.0)\n",
            "Installing collected packages: aioitertools, botocore, aiobotocore, s3fs\n",
            "  Attempting uninstall: botocore\n",
            "    Found existing installation: botocore 1.29.69\n",
            "    Uninstalling botocore-1.29.69:\n",
            "      Successfully uninstalled botocore-1.29.69\n",
            "\u001b[31mERROR: pip's dependency resolver does not currently take into account all the packages that are installed. This behaviour is the source of the following dependency conflicts.\n",
            "awscli 1.27.69 requires botocore==1.29.69, but you have botocore 1.27.59 which is incompatible.\u001b[0m\u001b[31m\n",
            "\u001b[0mSuccessfully installed aiobotocore-2.4.2 aioitertools-0.11.0 botocore-1.27.59 s3fs-2023.1.0\n"
          ]
        }
      ]
    },
    {
      "cell_type": "markdown",
      "metadata": {
        "id": "CAz2xS0AZUoA"
      },
      "source": [
        "# Settting up the Spark session\n",
        "\n",
        "We are going to be using the `SparkSession`. **The Spark session is the entry point to the Spark environment**. If we want access to the Spark SQL functionality, we need to create a Spark session. The Spark session is built on top of the `Spark context`. The Spark context is the entry point to the Spark cluster. The Spark session is built on top of the Spark context.\n",
        "\n",
        "We are going only to need to use the Spark session to read the data from S3 and write the output files to S3. Spark Context will be used internally by the Spark session and you don't need to worry about it."
      ]
    },
    {
      "cell_type": "code",
      "execution_count": null,
      "metadata": {
        "id": "5im3TL33ZUoA"
      },
      "outputs": [],
      "source": [
        "from pyspark.sql import SparkSession\n",
        "\n",
        "def get_spark(ACCESS_KEY=None, SECRET_KEY=None, TOKEN=None):\n",
        "    spark = SparkSession.builder.master(\"local[4]\").appName('SparkDelta') \\\n",
        "        .config(\"spark.sql.extensions\", \"io.delta.sql.DeltaSparkSessionExtension\") \\\n",
        "        .config(\"spark.sql.catalog.spark_catalog\", \"org.apache.spark.sql.delta.catalog.DeltaCatalog\") \\\n",
        "        .config(\"spark.hadoop.fs.s3a.impl\", \"org.apache.hadoop.fs.s3a.S3AFileSystem\") \\\n",
        "        .config(\"spark.jars.packages\", \n",
        "                \"io.delta:delta-core_2.12:1.1.0,\"\n",
        "                \"org.apache.hadoop:hadoop-aws:3.2.3,\"\n",
        "                \"com.amazonaws:aws-java-sdk-bundle:1.12.180\") \\\n",
        "        .getOrCreate()\n",
        "\n",
        "    # This is mandate config on spark session to use AWS S3\n",
        "    spark._jsc.hadoopConfiguration().set(\"com.amazonaws.services.s3.enableV4\", \"true\")\n",
        "    spark._jsc.hadoopConfiguration().set(\"fs.s3a.impl\", \"org.apache.hadoop.fs.s3a.S3AFileSystem\")\n",
        "\n",
        "    # If we want to use AWSCLI credentials provider:\n",
        "    spark._jsc.hadoopConfiguration().set(\"fs.s3a.aws.credentials.provider\",\"com.amazonaws.auth.InstanceProfileCredentialsProvider,com.amazonaws.auth.DefaultAWSCredentialsProviderChain\")\n",
        "\n",
        "    # If we are using temporary sessions:\n",
        "    # spark._jsc.hadoopConfiguration().set('fs.s3a.access.key', ACCESS_KEY)\n",
        "    # spark._jsc.hadoopConfiguration().set('fs.s3a.secret.key', SECRET_KEY)\n",
        "    # spark._jsc.hadoopConfiguration().set(\"fs.s3a.session.token\", TOKEN)\n",
        "    # spark._jsc.hadoopConfiguration().set('fs.s3a.aws.credentials.provider', 'org.apache.hadoop.fs.s3a.TemporaryAWSCredentialsProvider')\n",
        "    spark._jsc.hadoopConfiguration().set(\"fs.AbstractFileSystem.s3a.impl\", \"org.apache.hadoop.fs.s3a.S3A\")\n",
        "    # spark.sparkContext.setLogLevel(\"DEBUG\")\n",
        "        \n",
        "    return spark"
      ]
    },
    {
      "cell_type": "markdown",
      "metadata": {
        "id": "CV4_yzlLZUoB"
      },
      "source": [
        "If you notice in the previous code cell, we have already imported the `SparkSession` from the `pyspark.sql` module. We are going to use the `SparkSession.builder` to create the Spark session. \n",
        "\n",
        "We are going to set the `appName` to `SparkDelta` and the `master` to `local[*]` (this will run the Spark session in the local machine). \n",
        "\n",
        "We are also going to set the `config` for the AWS S3 connector. We are going to set the `spark.jars.packages` to `org.apache.hadoop:hadoop-aws:3.2.3` **(this version of the connector should match the version of Spark that we are using)**. \n",
        "\n",
        "We have the option to set the `spark.hadoop.fs.s3a.access.key` and `spark.hadoop.fs.s3a.secret.key` to the AWS credentials that we configured in the previous code cell. However, we are using `AWSCLI` credentials provider chain to handle the storing of credentials. This means that we don't need to set the AWS credentials in the Spark session.\n",
        "\n",
        "Finally, we are going to call the `getOrCreate()` method to create the Spark session. After that, we are passing some `hadoopConfiguration` to the Spark session. This is to make sure that the Spark session is using the AWS CLI credentials provider chain to handle the storing of credentials and using `fs.s3a.impl` to use the S3A file system implementation in order that we can read the files from S3 as a file system."
      ]
    },
    {
      "cell_type": "code",
      "execution_count": null,
      "metadata": {
        "colab": {
          "base_uri": "https://localhost:8080/",
          "height": 53
        },
        "id": "sorpU9yeZUoB",
        "outputId": "498ec2e2-f8cb-4669-ae9b-46e08444274c"
      },
      "outputs": [
        {
          "output_type": "stream",
          "name": "stdout",
          "text": [
            "<pyspark.sql.session.SparkSession object at 0x7f14b4524fd0>\n"
          ]
        },
        {
          "output_type": "execute_result",
          "data": {
            "text/plain": [
              "'3.2.3'"
            ],
            "application/vnd.google.colaboratory.intrinsic+json": {
              "type": "string"
            }
          },
          "metadata": {},
          "execution_count": 14
        }
      ],
      "source": [
        "# Let's create a spark session\n",
        "spark = get_spark()\n",
        "\n",
        "print(spark)\n",
        "spark.version"
      ]
    },
    {
      "cell_type": "markdown",
      "metadata": {
        "id": "QsT8v_2RSuWs"
      },
      "source": [
        "## Running SQL queries programatically\n",
        "\n",
        "The nex code examples are based on the San Francisco Bike Sharing dataset where possible. The dataset has been uploaded to our S3 bucket, but you can get the files from kaggle as well: [https://www.kaggle.com/datasets/benhamner/sf-bay-area-bike-share](https://www.kaggle.com/datasets/benhamner/sf-bay-area-bike-share)"
      ]
    },
    {
      "cell_type": "code",
      "execution_count": null,
      "metadata": {
        "id": "LNwoSz__cECR"
      },
      "outputs": [],
      "source": [
        "# Create a Dataframe based on your dataset.Here, we will use the SF Bike Sharing trip dataset.\n",
        "trip_df = spark.read.csv(\"s3a://msin0166-spark-workshop/data/sf_bike_sharing_data/trip.csv\", header=True)"
      ]
    },
    {
      "cell_type": "code",
      "execution_count": null,
      "metadata": {
        "colab": {
          "base_uri": "https://localhost:8080/"
        },
        "id": "T8wTkViJiwey",
        "outputId": "579d1dc8-6349-426a-9cfe-c1beba5fcf9e"
      },
      "outputs": [
        {
          "output_type": "stream",
          "name": "stdout",
          "text": [
            "+----+--------+---------------+--------------------+----------------+---------------+--------------------+--------------+-------+-----------------+--------+\n",
            "|  id|duration|     start_date|  start_station_name|start_station_id|       end_date|    end_station_name|end_station_id|bike_id|subscription_type|zip_code|\n",
            "+----+--------+---------------+--------------------+----------------+---------------+--------------------+--------------+-------+-----------------+--------+\n",
            "|4576|      63|8/29/2013 14:13|South Van Ness at...|              66|8/29/2013 14:14|South Van Ness at...|            66|    520|       Subscriber|   94127|\n",
            "|4607|      70|8/29/2013 14:42|  San Jose City Hall|              10|8/29/2013 14:43|  San Jose City Hall|            10|    661|       Subscriber|   95138|\n",
            "|4130|      71|8/29/2013 10:16|Mountain View Cit...|              27|8/29/2013 10:17|Mountain View Cit...|            27|     48|       Subscriber|   97214|\n",
            "|4251|      77|8/29/2013 11:29|  San Jose City Hall|              10|8/29/2013 11:30|  San Jose City Hall|            10|     26|       Subscriber|   95060|\n",
            "|4299|      83|8/29/2013 12:02|South Van Ness at...|              66|8/29/2013 12:04|      Market at 10th|            67|    319|       Subscriber|   94103|\n",
            "|4927|     103|8/29/2013 18:54| Golden Gate at Polk|              59|8/29/2013 18:56| Golden Gate at Polk|            59|    527|       Subscriber|   94109|\n",
            "|4500|     109|8/29/2013 13:25|Santa Clara at Al...|               4|8/29/2013 13:27|    Adobe on Almaden|             5|    679|       Subscriber|   95112|\n",
            "|4563|     111|8/29/2013 14:02| San Salvador at 1st|               8|8/29/2013 14:04| San Salvador at 1st|             8|    687|       Subscriber|   95112|\n",
            "|4760|     113|8/29/2013 17:01|South Van Ness at...|              66|8/29/2013 17:03|South Van Ness at...|            66|    553|       Subscriber|   94103|\n",
            "|4258|     114|8/29/2013 11:33|  San Jose City Hall|              10|8/29/2013 11:35|         MLK Library|            11|    107|       Subscriber|   95060|\n",
            "|4549|     125|8/29/2013 13:52|     Spear at Folsom|              49|8/29/2013 13:55|Embarcadero at Br...|            54|    368|       Subscriber|   94109|\n",
            "|4498|     126|8/29/2013 13:23|    San Pedro Square|               6|8/29/2013 13:25|Santa Clara at Al...|             4|     26|       Subscriber|   95112|\n",
            "|4965|     129|8/29/2013 19:32|Mountain View Cal...|              28|8/29/2013 19:35|Mountain View Cal...|            28|    140|       Subscriber|   94041|\n",
            "|4557|     130|8/29/2013 13:57|   2nd at South Park|              64|8/29/2013 13:59|   2nd at South Park|            64|    371|       Subscriber|   94122|\n",
            "|4386|     134|8/29/2013 12:31|     Clay at Battery|              41|8/29/2013 12:33|     Beale at Market|            56|    503|       Subscriber|   94109|\n",
            "|4749|     138|8/29/2013 16:57|     Post at Kearney|              47|8/29/2013 16:59|     Post at Kearney|            47|    408|       Subscriber|   94117|\n",
            "|4242|     141|8/29/2013 11:25|  San Jose City Hall|              10|8/29/2013 11:27|  San Jose City Hall|            10|     26|       Subscriber|   95060|\n",
            "|4329|     142|8/29/2013 12:11|      Market at 10th|              67|8/29/2013 12:14|      Market at 10th|            67|    319|       Subscriber|   94103|\n",
            "|5097|     142|8/29/2013 22:21|   Steuart at Market|              74|8/29/2013 22:24|Harry Bridges Pla...|            50|    564|       Subscriber|   94115|\n",
            "|5084|     144|8/29/2013 22:06|  Powell Street BART|              39|8/29/2013 22:08|       Market at 4th|            76|    574|       Subscriber|   94115|\n",
            "+----+--------+---------------+--------------------+----------------+---------------+--------------------+--------------+-------+-----------------+--------+\n",
            "only showing top 20 rows\n",
            "\n"
          ]
        }
      ],
      "source": [
        "trip_df.show()"
      ]
    },
    {
      "cell_type": "code",
      "execution_count": null,
      "metadata": {
        "id": "tExVeK01jAnU"
      },
      "outputs": [],
      "source": [
        "# Create a SQL temporary view (more below)\n",
        "trip_df.createOrReplaceTempView(\"trip\")"
      ]
    },
    {
      "cell_type": "code",
      "execution_count": null,
      "metadata": {
        "colab": {
          "base_uri": "https://localhost:8080/"
        },
        "id": "WzD_QGp7jAqd",
        "outputId": "19b2fd90-6444-43b1-b641-05ff2d1d0e1e"
      },
      "outputs": [
        {
          "output_type": "stream",
          "name": "stdout",
          "text": [
            "+-----+--------+---------------+--------------------+----------------+---------------+--------------------+--------------+-------+-----------------+--------+\n",
            "|   id|duration|     start_date|  start_station_name|start_station_id|       end_date|    end_station_name|end_station_id|bike_id|subscription_type|zip_code|\n",
            "+-----+--------+---------------+--------------------+----------------+---------------+--------------------+--------------+-------+-----------------+--------+\n",
            "| 4576|      63|8/29/2013 14:13|South Van Ness at...|              66|8/29/2013 14:14|South Van Ness at...|            66|    520|       Subscriber|   94127|\n",
            "| 6115|      69|8/30/2013 16:30|       2nd at Folsom|              62|8/30/2013 16:31|       2nd at Folsom|            62|    633|       Subscriber|   94107|\n",
            "| 7416|      62|8/31/2013 20:52|Embarcadero at Sa...|              60|8/31/2013 20:53|Embarcadero at Sa...|            60|    511|         Customer|    null|\n",
            "| 7250|      68|8/31/2013 16:53|University and Em...|              35|8/31/2013 16:54|University and Em...|            35|    100|       Subscriber|   97214|\n",
            "| 7403|      69|8/31/2013 19:58|Embarcadero at Sa...|              60|8/31/2013 19:59|Embarcadero at Sa...|            60|    332|         Customer|   94105|\n",
            "| 8576|      60|  9/2/2013 9:40|Harry Bridges Pla...|              50|  9/2/2013 9:41|Harry Bridges Pla...|            50|    354|       Subscriber|   94102|\n",
            "| 8651|      60| 9/2/2013 10:50|San Francisco Cal...|              69| 9/2/2013 10:51|San Francisco Cal...|            69|    544|       Subscriber|   94107|\n",
            "| 8968|      61| 9/2/2013 14:25|Powell at Post (U...|              71| 9/2/2013 14:26|Powell at Post (U...|            71|    434|       Subscriber|   94108|\n",
            "| 9444|      60|  9/3/2013 8:37|Redwood City Publ...|              24|  9/3/2013 8:38|Redwood City Publ...|            24|    239|       Subscriber|   94105|\n",
            "|10093|      67| 9/3/2013 18:06|South Van Ness at...|              66| 9/3/2013 18:07|South Van Ness at...|            66|    610|       Subscriber|   94117|\n",
            "|10118|      63| 9/3/2013 18:25|   Market at Sansome|              77| 9/3/2013 18:26|   Market at Sansome|            77|    367|         Customer|    null|\n",
            "|11847|      64| 9/5/2013 18:38|     Beale at Market|              56| 9/5/2013 18:39|     Beale at Market|            56|    353|       Subscriber|   94605|\n",
            "|12073|      68|  9/6/2013 8:05|           Japantown|               9|  9/6/2013 8:06|           Japantown|             9|     80|       Subscriber|   95112|\n",
            "|12355|      61| 9/6/2013 12:33|Redwood City Medi...|              26| 9/6/2013 12:34|Redwood City Medi...|            26|    308|       Subscriber|   94105|\n",
            "|13323|      67| 9/7/2013 10:49|Embarcadero at Br...|              54| 9/7/2013 10:51|Embarcadero at Br...|            54|    508|       Subscriber|   94107|\n",
            "|14644|      60| 9/8/2013 13:55|San Francisco Cal...|              70| 9/8/2013 13:56|San Francisco Cal...|            70|    521|       Subscriber|   95126|\n",
            "|14761|      65| 9/8/2013 15:16|Embarcadero at Br...|              54| 9/8/2013 15:17|Embarcadero at Br...|            54|    625|       Subscriber|   94111|\n",
            "|15484|      65| 9/9/2013 12:17|Harry Bridges Pla...|              50| 9/9/2013 12:18|Harry Bridges Pla...|            50|    555|       Subscriber|   94601|\n",
            "|16663|      64|9/10/2013 13:30|South Van Ness at...|              66|9/10/2013 13:31|South Van Ness at...|            66|    630|       Subscriber|   94102|\n",
            "|16991|      61|9/10/2013 17:39|     Spear at Folsom|              49|9/10/2013 17:40|     Spear at Folsom|            49|    520|       Subscriber|   94124|\n",
            "+-----+--------+---------------+--------------------+----------------+---------------+--------------------+--------------+-------+-----------------+--------+\n",
            "only showing top 20 rows\n",
            "\n"
          ]
        }
      ],
      "source": [
        "#Query the temporary table\n",
        "sqlDF = spark.sql(\"SELECT * FROM trip where duration < 70\")\n",
        "sqlDF.show()"
      ]
    },
    {
      "cell_type": "code",
      "execution_count": null,
      "metadata": {
        "colab": {
          "base_uri": "https://localhost:8080/"
        },
        "id": "alb2AkMojfEl",
        "outputId": "90cb41b4-fda0-4345-dd00-e2ffc2f1e649"
      },
      "outputs": [
        {
          "output_type": "stream",
          "name": "stdout",
          "text": [
            "+----+--------+---------------+--------------------+----------------+---------------+--------------------+--------------+-------+-----------------+--------+\n",
            "|  id|duration|     start_date|  start_station_name|start_station_id|       end_date|    end_station_name|end_station_id|bike_id|subscription_type|zip_code|\n",
            "+----+--------+---------------+--------------------+----------------+---------------+--------------------+--------------+-------+-----------------+--------+\n",
            "|4576|      63|8/29/2013 14:13|South Van Ness at...|              66|8/29/2013 14:14|South Van Ness at...|            66|    520|       Subscriber|   94127|\n",
            "|4607|      70|8/29/2013 14:42|  San Jose City Hall|              10|8/29/2013 14:43|  San Jose City Hall|            10|    661|       Subscriber|   95138|\n",
            "|4130|      71|8/29/2013 10:16|Mountain View Cit...|              27|8/29/2013 10:17|Mountain View Cit...|            27|     48|       Subscriber|   97214|\n",
            "|4251|      77|8/29/2013 11:29|  San Jose City Hall|              10|8/29/2013 11:30|  San Jose City Hall|            10|     26|       Subscriber|   95060|\n",
            "|4299|      83|8/29/2013 12:02|South Van Ness at...|              66|8/29/2013 12:04|      Market at 10th|            67|    319|       Subscriber|   94103|\n",
            "|4927|     103|8/29/2013 18:54| Golden Gate at Polk|              59|8/29/2013 18:56| Golden Gate at Polk|            59|    527|       Subscriber|   94109|\n",
            "|4500|     109|8/29/2013 13:25|Santa Clara at Al...|               4|8/29/2013 13:27|    Adobe on Almaden|             5|    679|       Subscriber|   95112|\n",
            "|4563|     111|8/29/2013 14:02| San Salvador at 1st|               8|8/29/2013 14:04| San Salvador at 1st|             8|    687|       Subscriber|   95112|\n",
            "|4760|     113|8/29/2013 17:01|South Van Ness at...|              66|8/29/2013 17:03|South Van Ness at...|            66|    553|       Subscriber|   94103|\n",
            "|4258|     114|8/29/2013 11:33|  San Jose City Hall|              10|8/29/2013 11:35|         MLK Library|            11|    107|       Subscriber|   95060|\n",
            "|4549|     125|8/29/2013 13:52|     Spear at Folsom|              49|8/29/2013 13:55|Embarcadero at Br...|            54|    368|       Subscriber|   94109|\n",
            "|4498|     126|8/29/2013 13:23|    San Pedro Square|               6|8/29/2013 13:25|Santa Clara at Al...|             4|     26|       Subscriber|   95112|\n",
            "|4965|     129|8/29/2013 19:32|Mountain View Cal...|              28|8/29/2013 19:35|Mountain View Cal...|            28|    140|       Subscriber|   94041|\n",
            "|4557|     130|8/29/2013 13:57|   2nd at South Park|              64|8/29/2013 13:59|   2nd at South Park|            64|    371|       Subscriber|   94122|\n",
            "|4386|     134|8/29/2013 12:31|     Clay at Battery|              41|8/29/2013 12:33|     Beale at Market|            56|    503|       Subscriber|   94109|\n",
            "|4749|     138|8/29/2013 16:57|     Post at Kearney|              47|8/29/2013 16:59|     Post at Kearney|            47|    408|       Subscriber|   94117|\n",
            "|4242|     141|8/29/2013 11:25|  San Jose City Hall|              10|8/29/2013 11:27|  San Jose City Hall|            10|     26|       Subscriber|   95060|\n",
            "|4329|     142|8/29/2013 12:11|      Market at 10th|              67|8/29/2013 12:14|      Market at 10th|            67|    319|       Subscriber|   94103|\n",
            "|5097|     142|8/29/2013 22:21|   Steuart at Market|              74|8/29/2013 22:24|Harry Bridges Pla...|            50|    564|       Subscriber|   94115|\n",
            "|5084|     144|8/29/2013 22:06|  Powell Street BART|              39|8/29/2013 22:08|       Market at 4th|            76|    574|       Subscriber|   94115|\n",
            "+----+--------+---------------+--------------------+----------------+---------------+--------------------+--------------+-------+-----------------+--------+\n",
            "only showing top 20 rows\n",
            "\n"
          ]
        }
      ],
      "source": [
        "subscribers=spark.sql(\"SELECT * FROM trip where subscription_type==\\\"Subscriber\\\"\")\n",
        "subscribers.show()"
      ]
    },
    {
      "cell_type": "code",
      "execution_count": null,
      "metadata": {
        "colab": {
          "base_uri": "https://localhost:8080/"
        },
        "id": "NN676Txujrdv",
        "outputId": "8c84c606-3762-4d36-8f74-07fbb58b578d"
      },
      "outputs": [
        {
          "output_type": "execute_result",
          "data": {
            "text/plain": [
              "566746"
            ]
          },
          "metadata": {},
          "execution_count": 18
        }
      ],
      "source": [
        "#Count the number of subscribers\n",
        "subscribers.count()"
      ]
    },
    {
      "cell_type": "markdown",
      "metadata": {
        "id": "AycPkkKxOGUL"
      },
      "source": [
        "## Global temporary view \n",
        "\n",
        "Temporary views in Spark SQL are session-scoped and will disappear if the session that creates it terminates. If you want to have a temporary view that is shared among all sessions and keep alive until the Spark application terminates, you can create a global temporary view. Global temporary view is tied to a system preserved database global_temp, and we must use the qualified name to refer it, e.g. SELECT * FROM global_temp.view1.\n",
        "<br/>\n",
        "<br/>\n",
        "Source: Apache Spark documentation\n",
        "https://spark.apache.org/docs/latest/sql-getting-started.html#global-temporary-view\n",
        "\n"
      ]
    },
    {
      "cell_type": "code",
      "execution_count": null,
      "metadata": {
        "colab": {
          "base_uri": "https://localhost:8080/",
          "height": 391
        },
        "id": "1OekOJf1kJCX",
        "outputId": "d66fe386-f705-485d-c410-9fc55b22ad73"
      },
      "outputs": [
        {
          "output_type": "error",
          "ename": "AnalysisException",
          "evalue": "ignored",
          "traceback": [
            "\u001b[0;31m---------------------------------------------------------------------------\u001b[0m",
            "\u001b[0;31mAnalysisException\u001b[0m                         Traceback (most recent call last)",
            "\u001b[0;32m<ipython-input-19-26af3122c743>\u001b[0m in \u001b[0;36m<module>\u001b[0;34m\u001b[0m\n\u001b[1;32m      1\u001b[0m \u001b[0;31m#Executing a query against the newly created Subscribers dataset will trigger an error.\u001b[0m\u001b[0;34m\u001b[0m\u001b[0;34m\u001b[0m\u001b[0;34m\u001b[0m\u001b[0m\n\u001b[0;32m----> 2\u001b[0;31m \u001b[0mspark\u001b[0m\u001b[0;34m.\u001b[0m\u001b[0msql\u001b[0m\u001b[0;34m(\u001b[0m\u001b[0;34m\"SELECT * FROM subscribers where duration < 70\"\u001b[0m\u001b[0;34m)\u001b[0m\u001b[0;34m\u001b[0m\u001b[0;34m\u001b[0m\u001b[0m\n\u001b[0m",
            "\u001b[0;32m/content/spark-3.2.3-bin-hadoop3.2/python/pyspark/sql/session.py\u001b[0m in \u001b[0;36msql\u001b[0;34m(self, sqlQuery)\u001b[0m\n\u001b[1;32m    721\u001b[0m         \u001b[0;34m[\u001b[0m\u001b[0mRow\u001b[0m\u001b[0;34m(\u001b[0m\u001b[0mf1\u001b[0m\u001b[0;34m=\u001b[0m\u001b[0;36m1\u001b[0m\u001b[0;34m,\u001b[0m \u001b[0mf2\u001b[0m\u001b[0;34m=\u001b[0m\u001b[0;34m'row1'\u001b[0m\u001b[0;34m)\u001b[0m\u001b[0;34m,\u001b[0m \u001b[0mRow\u001b[0m\u001b[0;34m(\u001b[0m\u001b[0mf1\u001b[0m\u001b[0;34m=\u001b[0m\u001b[0;36m2\u001b[0m\u001b[0;34m,\u001b[0m \u001b[0mf2\u001b[0m\u001b[0;34m=\u001b[0m\u001b[0;34m'row2'\u001b[0m\u001b[0;34m)\u001b[0m\u001b[0;34m,\u001b[0m \u001b[0mRow\u001b[0m\u001b[0;34m(\u001b[0m\u001b[0mf1\u001b[0m\u001b[0;34m=\u001b[0m\u001b[0;36m3\u001b[0m\u001b[0;34m,\u001b[0m \u001b[0mf2\u001b[0m\u001b[0;34m=\u001b[0m\u001b[0;34m'row3'\u001b[0m\u001b[0;34m)\u001b[0m\u001b[0;34m]\u001b[0m\u001b[0;34m\u001b[0m\u001b[0;34m\u001b[0m\u001b[0m\n\u001b[1;32m    722\u001b[0m         \"\"\"\n\u001b[0;32m--> 723\u001b[0;31m         \u001b[0;32mreturn\u001b[0m \u001b[0mDataFrame\u001b[0m\u001b[0;34m(\u001b[0m\u001b[0mself\u001b[0m\u001b[0;34m.\u001b[0m\u001b[0m_jsparkSession\u001b[0m\u001b[0;34m.\u001b[0m\u001b[0msql\u001b[0m\u001b[0;34m(\u001b[0m\u001b[0msqlQuery\u001b[0m\u001b[0;34m)\u001b[0m\u001b[0;34m,\u001b[0m \u001b[0mself\u001b[0m\u001b[0;34m.\u001b[0m\u001b[0m_wrapped\u001b[0m\u001b[0;34m)\u001b[0m\u001b[0;34m\u001b[0m\u001b[0;34m\u001b[0m\u001b[0m\n\u001b[0m\u001b[1;32m    724\u001b[0m \u001b[0;34m\u001b[0m\u001b[0m\n\u001b[1;32m    725\u001b[0m     \u001b[0;32mdef\u001b[0m \u001b[0mtable\u001b[0m\u001b[0;34m(\u001b[0m\u001b[0mself\u001b[0m\u001b[0;34m,\u001b[0m \u001b[0mtableName\u001b[0m\u001b[0;34m)\u001b[0m\u001b[0;34m:\u001b[0m\u001b[0;34m\u001b[0m\u001b[0;34m\u001b[0m\u001b[0m\n",
            "\u001b[0;32m/content/spark-3.2.3-bin-hadoop3.2/python/lib/py4j-0.10.9.5-src.zip/py4j/java_gateway.py\u001b[0m in \u001b[0;36m__call__\u001b[0;34m(self, *args)\u001b[0m\n\u001b[1;32m   1319\u001b[0m \u001b[0;34m\u001b[0m\u001b[0m\n\u001b[1;32m   1320\u001b[0m         \u001b[0manswer\u001b[0m \u001b[0;34m=\u001b[0m \u001b[0mself\u001b[0m\u001b[0;34m.\u001b[0m\u001b[0mgateway_client\u001b[0m\u001b[0;34m.\u001b[0m\u001b[0msend_command\u001b[0m\u001b[0;34m(\u001b[0m\u001b[0mcommand\u001b[0m\u001b[0;34m)\u001b[0m\u001b[0;34m\u001b[0m\u001b[0;34m\u001b[0m\u001b[0m\n\u001b[0;32m-> 1321\u001b[0;31m         return_value = get_return_value(\n\u001b[0m\u001b[1;32m   1322\u001b[0m             answer, self.gateway_client, self.target_id, self.name)\n\u001b[1;32m   1323\u001b[0m \u001b[0;34m\u001b[0m\u001b[0m\n",
            "\u001b[0;32m/content/spark-3.2.3-bin-hadoop3.2/python/pyspark/sql/utils.py\u001b[0m in \u001b[0;36mdeco\u001b[0;34m(*a, **kw)\u001b[0m\n\u001b[1;32m    115\u001b[0m                 \u001b[0;31m# Hide where the exception came from that shows a non-Pythonic\u001b[0m\u001b[0;34m\u001b[0m\u001b[0;34m\u001b[0m\u001b[0;34m\u001b[0m\u001b[0m\n\u001b[1;32m    116\u001b[0m                 \u001b[0;31m# JVM exception message.\u001b[0m\u001b[0;34m\u001b[0m\u001b[0;34m\u001b[0m\u001b[0;34m\u001b[0m\u001b[0m\n\u001b[0;32m--> 117\u001b[0;31m                 \u001b[0;32mraise\u001b[0m \u001b[0mconverted\u001b[0m \u001b[0;32mfrom\u001b[0m \u001b[0;32mNone\u001b[0m\u001b[0;34m\u001b[0m\u001b[0;34m\u001b[0m\u001b[0m\n\u001b[0m\u001b[1;32m    118\u001b[0m             \u001b[0;32melse\u001b[0m\u001b[0;34m:\u001b[0m\u001b[0;34m\u001b[0m\u001b[0;34m\u001b[0m\u001b[0m\n\u001b[1;32m    119\u001b[0m                 \u001b[0;32mraise\u001b[0m\u001b[0;34m\u001b[0m\u001b[0;34m\u001b[0m\u001b[0m\n",
            "\u001b[0;31mAnalysisException\u001b[0m: Table or view not found: subscribers; line 1 pos 14;\n'Project [*]\n+- 'Filter ('duration < 70)\n   +- 'UnresolvedRelation [subscribers], [], false\n"
          ]
        }
      ],
      "source": [
        "#Executing a query against the newly created Subscribers dataset will trigger an error.\n",
        "spark.sql(\"SELECT * FROM subscribers where duration < 70\")"
      ]
    },
    {
      "cell_type": "markdown",
      "metadata": {
        "id": "Vy1BF7lUle5h"
      },
      "source": [
        "<img src=\"https://media.tenor.com/images/a1343b4e30eeca94b3edf232a767bd31/tenor.gif\"/>"
      ]
    },
    {
      "cell_type": "code",
      "execution_count": null,
      "metadata": {
        "id": "mlZJXMlAcEic"
      },
      "outputs": [],
      "source": [
        "# Create a temporary view of subscribers that can be further queried\n",
        "subscribers.createOrReplaceTempView(\"subscribers\")"
      ]
    },
    {
      "cell_type": "code",
      "execution_count": null,
      "metadata": {
        "colab": {
          "base_uri": "https://localhost:8080/"
        },
        "id": "1Ffd34yYcEpK",
        "outputId": "5108af8c-d723-4ae6-86e6-f6a51d6ef462"
      },
      "outputs": [
        {
          "output_type": "stream",
          "name": "stdout",
          "text": [
            "+----+--------+---------------+--------------------+----------------+---------------+--------------------+--------------+-------+-----------------+--------+\n",
            "|  id|duration|     start_date|  start_station_name|start_station_id|       end_date|    end_station_name|end_station_id|bike_id|subscription_type|zip_code|\n",
            "+----+--------+---------------+--------------------+----------------+---------------+--------------------+--------------+-------+-----------------+--------+\n",
            "|4607|      70|8/29/2013 14:42|  San Jose City Hall|              10|8/29/2013 14:43|  San Jose City Hall|            10|    661|       Subscriber|   95138|\n",
            "|4251|      77|8/29/2013 11:29|  San Jose City Hall|              10|8/29/2013 11:30|  San Jose City Hall|            10|     26|       Subscriber|   95060|\n",
            "|4258|     114|8/29/2013 11:33|  San Jose City Hall|              10|8/29/2013 11:35|         MLK Library|            11|    107|       Subscriber|   95060|\n",
            "|4242|     141|8/29/2013 11:25|  San Jose City Hall|              10|8/29/2013 11:27|  San Jose City Hall|            10|     26|       Subscriber|   95060|\n",
            "|4510|     166|8/29/2013 13:31|San Jose Civic Ce...|               3|8/29/2013 13:34| San Salvador at 1st|             8|    661|       Subscriber|   95112|\n",
            "|4606|     191|8/29/2013 14:38|  San Jose City Hall|              10|8/29/2013 14:42|  San Jose City Hall|            10|     35|       Subscriber|   95138|\n",
            "|4822|     343|8/29/2013 17:37|  San Jose City Hall|              10|8/29/2013 17:43|    San Pedro Square|             6|    196|       Subscriber|   95138|\n",
            "|4204|     378|8/29/2013 11:06|  San Jose City Hall|              10|8/29/2013 11:13|  San Jose City Hall|            10|     28|       Subscriber|   95136|\n",
            "|5099|     387|8/29/2013 22:35|San Jose Civic Ce...|               3|8/29/2013 22:41|San Jose Diridon ...|             2|    675|       Subscriber|   95126|\n",
            "|4347|     389|8/29/2013 12:15|  San Jose City Hall|              10|8/29/2013 12:21|    San Pedro Square|             6|    146|       Subscriber|   95112|\n",
            "|4958|     454|8/29/2013 19:18|San Jose Diridon ...|               2|8/29/2013 19:25|Paseo de San Antonio|             7|     91|       Subscriber|   95126|\n",
            "|5085|     573|8/29/2013 22:06|San Jose Civic Ce...|               3|8/29/2013 22:16|       St James Park|            13|    639|       Subscriber|   95112|\n",
            "|5086|     587|8/29/2013 22:06|San Jose Civic Ce...|               3|8/29/2013 22:16|       St James Park|            13|    655|       Subscriber|   95112|\n",
            "|4874|     704|8/29/2013 18:07|San Jose Civic Ce...|               3|8/29/2013 18:19| San Salvador at 1st|             8|    671|       Subscriber|   94116|\n",
            "|4997|     841|8/29/2013 19:57|San Jose Diridon ...|               2|8/29/2013 20:11|  San Jose City Hall|            10|     58|       Subscriber|   95112|\n",
            "|5038|     994|8/29/2013 20:36|San Jose Diridon ...|               2|8/29/2013 20:53|SJSU 4th at San C...|            12|     91|       Subscriber|   95126|\n",
            "|4160|    1271|8/29/2013 10:42|  San Jose City Hall|              10|8/29/2013 11:03|  San Jose City Hall|            10|    680|       Subscriber|   95112|\n",
            "|4164|    1276|8/29/2013 10:47|  San Jose City Hall|              10|8/29/2013 11:09|  San Jose City Hall|            10|     30|       Subscriber|   95060|\n",
            "|5349|      76|8/30/2013 10:56|  San Jose City Hall|              10|8/30/2013 10:57|         MLK Library|            11|     28|       Subscriber|   95112|\n",
            "|6326|     289|8/30/2013 18:38|San Jose Diridon ...|               2|8/30/2013 18:43|San Jose Diridon ...|             2|     23|       Subscriber|   95126|\n",
            "+----+--------+---------------+--------------------+----------------+---------------+--------------------+--------------+-------+-----------------+--------+\n",
            "only showing top 20 rows\n",
            "\n"
          ]
        }
      ],
      "source": [
        "#We can now query the Subscribers table\n",
        "spark.sql(\"SELECT * FROM subscribers WHERE start_station_name LIKE \\\"San Jose%\\\" \").show()"
      ]
    },
    {
      "cell_type": "markdown",
      "metadata": {
        "id": "ZTDTiT2_Nm2L"
      },
      "source": [
        "## Reading multiple types: \n",
        "\n",
        "Spark SQL supports reading the following formats:\n",
        "- CSV\n",
        "- JSON\n",
        "- Avro\n",
        "- Parquet\n",
        "- Hive tables\n",
        "- ORC tables\n",
        "\n",
        "It can also create a JDBC connection to existing databases.\n",
        "\n",
        "For more details, please read the Spark documentation\n",
        "https://spark.apache.org/docs/2.2.0/sql-programming-guide.html#data-sources\n",
        "\n",
        "\n",
        "\n",
        "\n"
      ]
    },
    {
      "cell_type": "markdown",
      "metadata": {
        "id": "JWSg8i1bn6Ex"
      },
      "source": [
        "## Spark SQL architecture\n",
        "\n",
        "<img src=\"https://d1jnx9ba8s6j9r.cloudfront.net/blog/wp-content/uploads/2016/12/Spark-SQL-Architecture-Spark-SQL-Edureka-1.png\"/>\n",
        "\n",
        "**Source** : Edureka\n",
        "\n",
        "For a better understanding of Spark SQL, read this article: https://www.edureka.co/blog/spark-sql-tutorial/"
      ]
    },
    {
      "cell_type": "markdown",
      "metadata": {
        "id": "oJj5enyrPwax"
      },
      "source": [
        "# Inferring schema\n",
        "\n",
        "Spark SQL can convert an RDD of Row objects to a DataFrame, inferring the datatypes. Rows are constructed by passing a list of key/value pairs as kwargs to the Row class. The keys of this list define the column names of the table, and the types are inferred by sampling the whole dataset, similar to the inference that is performed on JSON files.\n",
        "\n",
        "A practical example can be found here: https://spark.apache.org/docs/2.3.0/sql-programming-guide.html#inferring-the-schema-using-reflection"
      ]
    },
    {
      "cell_type": "markdown",
      "metadata": {
        "id": "EscnlFYDSrHb"
      },
      "source": [
        "## Bucketing, Sorting and Partitioning\n",
        "\n",
        "For file-based data source, it is also possible to bucket and sort or partition the output. Bucketing and sorting are applicable only to persistent tables\n",
        "\n",
        "The bucket by command allows you to sort the rows of Spark SQL table by a certain column. If you then cache the sorted table, you can make subsequent joins faster.\n",
        "\n",
        "Bucketing is an optimization technique in Spark SQL that uses buckets and bucketing columns to determine data partitioning. When applied properly bucketing can lead to join optimizations by avoiding shuffles (aka exchanges) of tables participating in the join. The talk will give you the necessary information so you can use bucketing to optimize Spark SQL structured queries.\n",
        "\n",
        "Source: https://spark.apache.org/docs/latest/sql-data-sources-load-save-functions.html#bucketing-sorting-and-partitioning"
      ]
    },
    {
      "cell_type": "code",
      "execution_count": null,
      "metadata": {
        "id": "2pmeiHwqcJ3m"
      },
      "outputs": [],
      "source": [
        "# Bucketing and sorting - Split the data into 42 buckets by the start station name column\n",
        "subscribers.write.bucketBy(42, \"start_station_name\").sortBy(\"duration\").saveAsTable(\"bucketed_subscribers\")\n"
      ]
    },
    {
      "cell_type": "code",
      "execution_count": null,
      "metadata": {
        "colab": {
          "base_uri": "https://localhost:8080/"
        },
        "id": "8HCdiaqxR-DT",
        "outputId": "3d15be8c-4fa3-4c2f-f7a2-cb72e2d896c8"
      },
      "outputs": [
        {
          "output_type": "stream",
          "name": "stdout",
          "text": [
            "+------+--------+---------------+------------------+----------------+---------------+--------------------+--------------+-------+-----------------+--------+\n",
            "|    id|duration|     start_date|start_station_name|start_station_id|       end_date|    end_station_name|end_station_id|bike_id|subscription_type|zip_code|\n",
            "+------+--------+---------------+------------------+----------------+---------------+--------------------+--------------+-------+-----------------+--------+\n",
            "|382320|     100| 7/28/2014 7:03|   Beale at Market|              56| 7/28/2014 7:04|Temporary Transba...|            55|    417|       Subscriber|   94112|\n",
            "|359590|     100| 7/11/2014 9:32|   Beale at Market|              56| 7/11/2014 9:34|Temporary Transba...|            55|    563|       Subscriber|   94105|\n",
            "|339009|     100|6/25/2014 14:04|    Post at Kearny|              47|6/25/2014 14:06|   Market at Sansome|            77|    334|       Subscriber|   94105|\n",
            "|308155|     100|  6/3/2014 7:47|   Beale at Market|              56|  6/3/2014 7:48|   Steuart at Market|            74|    569|       Subscriber|   94105|\n",
            "|280910|     100|5/12/2014 16:48|   Beale at Market|              56|5/12/2014 16:50|Temporary Transba...|            55|    601|       Subscriber|   94602|\n",
            "|266173|     100| 4/30/2014 8:57|   Beale at Market|              56| 4/30/2014 8:58|Temporary Transba...|            55|    562|       Subscriber|   94114|\n",
            "|259887|     100|4/24/2014 10:05|   Beale at Market|              56|4/24/2014 10:07|Temporary Transba...|            55|    608|       Subscriber|   94105|\n",
            "|235201|     100| 4/3/2014 10:02|   Beale at Market|              56| 4/3/2014 10:03|Temporary Transba...|            55|    405|       Subscriber|   94105|\n",
            "|219647|     100|3/19/2014 10:20|   Beale at Market|              56|3/19/2014 10:21|Temporary Transba...|            55|    579|       Subscriber|   94122|\n",
            "|212677|     100|3/13/2014 13:56|   Beale at Market|              56|3/13/2014 13:58|Temporary Transba...|            55|    339|       Subscriber|   94110|\n",
            "+------+--------+---------------+------------------+----------------+---------------+--------------------+--------------+-------+-----------------+--------+\n",
            "\n"
          ]
        }
      ],
      "source": [
        "# We can now query the bucketed table\n",
        "from time import time\n",
        "start_time=time()\n",
        "spark.sql(\"SELECT * FROM bucketed_subscribers LIMIT 10\").show()\n",
        "end_time=time()"
      ]
    },
    {
      "cell_type": "code",
      "execution_count": null,
      "metadata": {
        "colab": {
          "base_uri": "https://localhost:8080/"
        },
        "id": "fbJP8dS8SKsq",
        "outputId": "c69a0f52-f8da-4e53-89ab-32177782e782"
      },
      "outputs": [
        {
          "output_type": "stream",
          "name": "stdout",
          "text": [
            "Time spent to query bucketed table:  0.6009030342102051\n"
          ]
        }
      ],
      "source": [
        "print(\"Time spent to query bucketed table: \",end_time - start_time)"
      ]
    },
    {
      "cell_type": "code",
      "execution_count": null,
      "metadata": {
        "colab": {
          "base_uri": "https://localhost:8080/"
        },
        "id": "GK-2nHdVSQjq",
        "outputId": "4b33125c-844f-4e16-9264-64a4bfb29f5b"
      },
      "outputs": [
        {
          "output_type": "stream",
          "name": "stdout",
          "text": [
            "+----+--------+---------------+--------------------+----------------+---------------+--------------------+--------------+-------+-----------------+--------+\n",
            "|  id|duration|     start_date|  start_station_name|start_station_id|       end_date|    end_station_name|end_station_id|bike_id|subscription_type|zip_code|\n",
            "+----+--------+---------------+--------------------+----------------+---------------+--------------------+--------------+-------+-----------------+--------+\n",
            "|4576|      63|8/29/2013 14:13|South Van Ness at...|              66|8/29/2013 14:14|South Van Ness at...|            66|    520|       Subscriber|   94127|\n",
            "|4607|      70|8/29/2013 14:42|  San Jose City Hall|              10|8/29/2013 14:43|  San Jose City Hall|            10|    661|       Subscriber|   95138|\n",
            "|4130|      71|8/29/2013 10:16|Mountain View Cit...|              27|8/29/2013 10:17|Mountain View Cit...|            27|     48|       Subscriber|   97214|\n",
            "|4251|      77|8/29/2013 11:29|  San Jose City Hall|              10|8/29/2013 11:30|  San Jose City Hall|            10|     26|       Subscriber|   95060|\n",
            "|4299|      83|8/29/2013 12:02|South Van Ness at...|              66|8/29/2013 12:04|      Market at 10th|            67|    319|       Subscriber|   94103|\n",
            "|4927|     103|8/29/2013 18:54| Golden Gate at Polk|              59|8/29/2013 18:56| Golden Gate at Polk|            59|    527|       Subscriber|   94109|\n",
            "|4500|     109|8/29/2013 13:25|Santa Clara at Al...|               4|8/29/2013 13:27|    Adobe on Almaden|             5|    679|       Subscriber|   95112|\n",
            "|4563|     111|8/29/2013 14:02| San Salvador at 1st|               8|8/29/2013 14:04| San Salvador at 1st|             8|    687|       Subscriber|   95112|\n",
            "|4760|     113|8/29/2013 17:01|South Van Ness at...|              66|8/29/2013 17:03|South Van Ness at...|            66|    553|       Subscriber|   94103|\n",
            "|4258|     114|8/29/2013 11:33|  San Jose City Hall|              10|8/29/2013 11:35|         MLK Library|            11|    107|       Subscriber|   95060|\n",
            "+----+--------+---------------+--------------------+----------------+---------------+--------------------+--------------+-------+-----------------+--------+\n",
            "\n"
          ]
        }
      ],
      "source": [
        "start_time_unbucketed=time()\n",
        "spark.sql(\"SELECT * FROM subscribers LIMIT 10\").show()\n",
        "end_time_unbucketed=time()"
      ]
    },
    {
      "cell_type": "code",
      "execution_count": null,
      "metadata": {
        "colab": {
          "base_uri": "https://localhost:8080/"
        },
        "id": "zMd7rgdVSXoH",
        "outputId": "de819f84-c57a-45cf-825b-e8480d1ba47d"
      },
      "outputs": [
        {
          "output_type": "stream",
          "name": "stdout",
          "text": [
            "Time spent to query unbucketed table:  0.692385196685791\n"
          ]
        }
      ],
      "source": [
        "print(\"Time spent to query unbucketed table: \", end_time_unbucketed - start_time_unbucketed)"
      ]
    },
    {
      "cell_type": "markdown",
      "metadata": {
        "id": "sNvBNjdkSz5p"
      },
      "source": [
        "## Partitioning\n"
      ]
    },
    {
      "cell_type": "code",
      "execution_count": null,
      "metadata": {
        "id": "i7h43h0-cJ7e"
      },
      "outputs": [],
      "source": [
        "#We partition the data by start_station_name and store it in a Parquet format - More on Parquet files later. For a better understanding, read the documentation.\n",
        "subscribers.write.partitionBy(\"start_station_name\").format(\"parquet\").save(\"subscribers.parquet\")"
      ]
    },
    {
      "cell_type": "code",
      "execution_count": null,
      "metadata": {
        "colab": {
          "base_uri": "https://localhost:8080/"
        },
        "id": "BGtQQIw3TG_k",
        "outputId": "68098d34-2ada-4247-8d2f-c6972eec6600"
      },
      "outputs": [
        {
          "output_type": "stream",
          "name": "stdout",
          "text": [
            "+------+--------+---------------+----------------+---------------+--------------------+--------------+-------+-----------------+--------+--------------------+\n",
            "|    id|duration|     start_date|start_station_id|       end_date|    end_station_name|end_station_id|bike_id|subscription_type|zip_code|  start_station_name|\n",
            "+------+--------+---------------+----------------+---------------+--------------------+--------------+-------+-----------------+--------+--------------------+\n",
            "|386032|     544| 7/30/2014 7:22|              70| 7/30/2014 7:31|Embarcadero at Fo...|            51|    571|       Subscriber|   94303|San Francisco Cal...|\n",
            "|386029|     602| 7/30/2014 7:21|              70| 7/30/2014 7:31|Embarcadero at Fo...|            51|    634|       Subscriber|   94062|San Francisco Cal...|\n",
            "|386028|     807| 7/30/2014 7:20|              70| 7/30/2014 7:33|     Clay at Battery|            41|    260|       Subscriber|   94025|San Francisco Cal...|\n",
            "|386024|     665| 7/30/2014 7:12|              70| 7/30/2014 7:24|       5th at Howard|            57|    536|       Subscriber|   94158|San Francisco Cal...|\n",
            "|386005|     690| 7/30/2014 7:04|              70| 7/30/2014 7:15|       Market at 4th|            76|    314|       Subscriber|   94062|San Francisco Cal...|\n",
            "|386003|     899| 7/30/2014 7:03|              70| 7/30/2014 7:18|     Clay at Battery|            41|    554|       Subscriber|   94402|San Francisco Cal...|\n",
            "|386002|     742| 7/30/2014 7:03|              70| 7/30/2014 7:15|South Van Ness at...|            66|    401|       Subscriber|   94061|San Francisco Cal...|\n",
            "|385961|     964| 7/30/2014 6:41|              70| 7/30/2014 6:57|   Steuart at Market|            74|    467|       Subscriber|   94070|San Francisco Cal...|\n",
            "|385960|     746| 7/30/2014 6:40|              70| 7/30/2014 6:52|Temporary Transba...|            55|    487|       Subscriber|   94030|San Francisco Cal...|\n",
            "|385959|     463| 7/30/2014 6:40|              70| 7/30/2014 6:47|Embarcadero at Fo...|            51|    619|       Subscriber|   95124|San Francisco Cal...|\n",
            "|385947|     569| 7/30/2014 6:35|              70| 7/30/2014 6:44|   Market at Sansome|            77|    425|       Subscriber|   94010|San Francisco Cal...|\n",
            "|385946|     659| 7/30/2014 6:35|              70| 7/30/2014 6:46|Temporary Transba...|            55|    276|       Subscriber|   94002|San Francisco Cal...|\n",
            "|385927|     702| 7/30/2014 0:01|              70| 7/30/2014 0:13|    Davis at Jackson|            42|    596|       Subscriber|   94111|San Francisco Cal...|\n",
            "|385894|     705|7/29/2014 22:04|              70|7/29/2014 22:16|Grant Avenue at C...|            73|    611|       Subscriber|   94133|San Francisco Cal...|\n",
            "|385780|     266|7/29/2014 20:03|              70|7/29/2014 20:08|     Townsend at 7th|            65|    631|       Subscriber|   94107|San Francisco Cal...|\n",
            "|385749|     347|7/29/2014 19:41|              70|7/29/2014 19:47|Embarcadero at Br...|            54|    494|       Subscriber|   94105|San Francisco Cal...|\n",
            "|385743|    1321|7/29/2014 19:39|              70|7/29/2014 20:01|Embarcadero at Br...|            54|    705|       Subscriber|   94107|San Francisco Cal...|\n",
            "|385737|    1571|7/29/2014 19:32|              70|7/29/2014 19:58|San Francisco Cal...|            70|    467|       Subscriber|   94107|San Francisco Cal...|\n",
            "|385735|     477|7/29/2014 19:31|              70|7/29/2014 19:39|Embarcadero at Br...|            54|    330|       Subscriber|   94103|San Francisco Cal...|\n",
            "|385705|     750|7/29/2014 19:10|              70|7/29/2014 19:23|Broadway St at Ba...|            82|    437|       Subscriber|   94133|San Francisco Cal...|\n",
            "+------+--------+---------------+----------------+---------------+--------------------+--------------+-------+-----------------+--------+--------------------+\n",
            "only showing top 20 rows\n",
            "\n"
          ]
        }
      ],
      "source": [
        "#We will now read the data\n",
        "subscribers_in_parquet_format=spark.read.parquet(\"subscribers.parquet\")\n",
        "subscribers_in_parquet_format.show()"
      ]
    },
    {
      "cell_type": "code",
      "execution_count": null,
      "metadata": {
        "colab": {
          "base_uri": "https://localhost:8080/"
        },
        "id": "kzTg7syJTnyd",
        "outputId": "a41db6de-8a47-4ae5-96ed-e57fbaf02f49"
      },
      "outputs": [
        {
          "output_type": "stream",
          "name": "stdout",
          "text": [
            "+------+--------+---------------+----------------+---------------+--------------------+--------------+-------+-----------------+--------+\n",
            "|    id|duration|     start_date|start_station_id|       end_date|    end_station_name|end_station_id|bike_id|subscription_type|zip_code|\n",
            "+------+--------+---------------+----------------+---------------+--------------------+--------------+-------+-----------------+--------+\n",
            "|386045|     215| 7/30/2014 7:28|              42| 7/30/2014 7:31|Commercial at Mon...|            45|    448|       Subscriber|   94111|\n",
            "|385974|    1419| 7/30/2014 6:49|              42| 7/30/2014 7:13|    Davis at Jackson|            42|    321|       Subscriber|   94111|\n",
            "|385930|     220| 7/30/2014 1:43|              42| 7/30/2014 1:47|Washington at Kearny|            46|    134|       Subscriber|   94108|\n",
            "|385673|     382|7/29/2014 18:56|              42|7/29/2014 19:03|Temporary Transba...|            55|    504|       Subscriber|   94602|\n",
            "|385664|     197|7/29/2014 18:52|              42|7/29/2014 18:56|     Beale at Market|            56|    651|       Subscriber|   94609|\n",
            "|385658|    1134|7/29/2014 18:51|              42|7/29/2014 19:10|     2nd at Townsend|            61|    587|       Subscriber|   94065|\n",
            "|385630|     647|7/29/2014 18:44|              42|7/29/2014 18:55|Powell at Post (U...|            71|    569|       Subscriber|   94109|\n",
            "|385546|     972|7/29/2014 18:13|              42|7/29/2014 18:29|San Francisco Cal...|            70|    496|       Subscriber|   95129|\n",
            "|385222|     941|7/29/2014 16:47|              42|7/29/2014 17:03|San Francisco Cal...|            70|    557|       Subscriber|   95125|\n",
            "|385127|    1008|7/29/2014 16:09|              42|7/29/2014 16:26|San Francisco Cal...|            70|    309|       Subscriber|   94085|\n",
            "|384968|     509|7/29/2014 13:38|              42|7/29/2014 13:46|       Market at 4th|            76|    466|       Subscriber|   94123|\n",
            "|384858|     953|7/29/2014 12:02|              42|7/29/2014 12:18|       5th at Howard|            57|    481|       Subscriber|   95125|\n",
            "|384676|     241| 7/29/2014 9:38|              42| 7/29/2014 9:42|Embarcadero at Fo...|            51|    618|       Subscriber|   94105|\n",
            "|384623|     699| 7/29/2014 9:23|              42| 7/29/2014 9:34|     2nd at Townsend|            61|    324|       Subscriber|   94111|\n",
            "|384614|    1215| 7/29/2014 9:22|              42| 7/29/2014 9:42|Harry Bridges Pla...|            50|    443|       Subscriber|   94111|\n",
            "|384446|     986| 7/29/2014 8:38|              42| 7/29/2014 8:54|San Francisco Cal...|            70|    431|       Subscriber|   94111|\n",
            "|384421|     142| 7/29/2014 8:32|              42| 7/29/2014 8:34|Broadway St at Ba...|            82|    238|       Subscriber|   95130|\n",
            "|384363|     263| 7/29/2014 8:15|              42| 7/29/2014 8:19|Embarcadero at Fo...|            51|    368|       Subscriber|   94133|\n",
            "|384362|     287| 7/29/2014 8:14|              42| 7/29/2014 8:18|Temporary Transba...|            55|    552|       Subscriber|   94111|\n",
            "|384154|     212| 7/29/2014 7:10|              42| 7/29/2014 7:14|Commercial at Mon...|            45|    189|       Subscriber|   94111|\n",
            "+------+--------+---------------+----------------+---------------+--------------------+--------------+-------+-----------------+--------+\n",
            "only showing top 20 rows\n",
            "\n"
          ]
        }
      ],
      "source": [
        "#Reading a partition from the parquet file\n",
        "davis_at_jackson_subscribers=spark.read.parquet(\"subscribers.parquet/start_station_name=Davis at Jackson\")\n",
        "davis_at_jackson_subscribers.show()"
      ]
    },
    {
      "cell_type": "code",
      "execution_count": null,
      "metadata": {
        "colab": {
          "base_uri": "https://localhost:8080/"
        },
        "id": "J_w72NS9T9Yd",
        "outputId": "c8ef64db-db40-42de-cdad-dd49eb6e452c"
      },
      "outputs": [
        {
          "output_type": "stream",
          "name": "stdout",
          "text": [
            "+-----+--------+---------------+------------------+----------------+---------------+--------------------+--------------+-------+-----------------+--------+\n",
            "|   id|duration|     start_date|start_station_name|start_station_id|       end_date|    end_station_name|end_station_id|bike_id|subscription_type|zip_code|\n",
            "+-----+--------+---------------+------------------+----------------+---------------+--------------------+--------------+-------+-----------------+--------+\n",
            "| 4799|     267|8/29/2013 17:19|  Davis at Jackson|              42|8/29/2013 17:24|   Steuart at Market|            74|    399|       Subscriber|   94105|\n",
            "| 4890|     347|8/29/2013 18:13|  Davis at Jackson|              42|8/29/2013 18:19|     Beale at Market|            56|    326|       Subscriber|   94123|\n",
            "| 5004|     430|8/29/2013 20:05|  Davis at Jackson|              42|8/29/2013 20:12|   Market at Sansome|            77|    377|       Subscriber|   94110|\n",
            "| 4462|     646|8/29/2013 13:07|  Davis at Jackson|              42|8/29/2013 13:18|Mechanics Plaza (...|            75|    543|       Subscriber|   94109|\n",
            "| 4943|     970|8/29/2013 19:06|  Davis at Jackson|              42|8/29/2013 19:22| Golden Gate at Polk|            59|    421|       Subscriber|   94111|\n",
            "| 4629|    1065|8/29/2013 15:03|  Davis at Jackson|              42|8/29/2013 15:20|South Van Ness at...|            66|    356|       Subscriber|   94127|\n",
            "| 4461|    1314|8/29/2013 13:07|  Davis at Jackson|              42|8/29/2013 13:29|      Market at 10th|            67|    598|       Subscriber|   94121|\n",
            "| 4302|    2138|8/29/2013 11:58|  Davis at Jackson|              42|8/29/2013 12:33|       Market at 4th|            76|    615|       Subscriber|   94129|\n",
            "| 5492|     356|8/30/2013 12:09|  Davis at Jackson|              42|8/30/2013 12:15|Grant Avenue at C...|            73|    425|       Subscriber|   94129|\n",
            "| 6770|     375|8/31/2013 12:21|  Davis at Jackson|              42|8/31/2013 12:27|Mechanics Plaza (...|            75|    412|       Subscriber|   94127|\n",
            "| 6503|    1017| 8/31/2013 7:47|  Davis at Jackson|              42| 8/31/2013 8:04|San Francisco Cal...|            69|    573|       Subscriber|   94111|\n",
            "| 7586|     313| 9/1/2013 10:55|  Davis at Jackson|              42| 9/1/2013 11:00|Embarcadero at Sa...|            60|    461|       Subscriber|   94111|\n",
            "| 9103|     287| 9/2/2013 15:51|  Davis at Jackson|              42| 9/2/2013 15:56|   Steuart at Market|            74|    404|       Subscriber|   94110|\n",
            "| 9194|     481| 9/2/2013 17:36|  Davis at Jackson|              42| 9/2/2013 17:44|Embarcadero at Fo...|            51|    584|       Subscriber|   94105|\n",
            "| 9264|     363| 9/2/2013 19:15|  Davis at Jackson|              42| 9/2/2013 19:22|Grant Avenue at C...|            73|    386|       Subscriber|   94133|\n",
            "| 9405|     378|  9/3/2013 7:44|  Davis at Jackson|              42|  9/3/2013 7:50|     Spear at Folsom|            49|    357|       Subscriber|   94133|\n",
            "| 9813|     381| 9/3/2013 14:13|  Davis at Jackson|              42| 9/3/2013 14:19|Embarcadero at Sa...|            60|    340|       Subscriber|   94605|\n",
            "| 9886|     216| 9/3/2013 15:37|  Davis at Jackson|              42| 9/3/2013 15:41|    Davis at Jackson|            42|    281|       Subscriber|   94111|\n",
            "|10024|     570| 9/3/2013 17:15|  Davis at Jackson|              42| 9/3/2013 17:24|     2nd at Townsend|            61|    337|       Subscriber|   94111|\n",
            "|10107|     642| 9/3/2013 18:17|  Davis at Jackson|              42| 9/3/2013 18:28|   2nd at South Park|            64|    281|       Subscriber|   94602|\n",
            "+-----+--------+---------------+------------------+----------------+---------------+--------------------+--------------+-------+-----------------+--------+\n",
            "only showing top 20 rows\n",
            "\n"
          ]
        }
      ],
      "source": [
        "#Checking we selected the relevant data\n",
        "spark.sql(\"SELECT * FROM subscribers WHERE start_station_name=\\'Davis at Jackson\\'\").show()"
      ]
    },
    {
      "cell_type": "markdown",
      "metadata": {
        "id": "YU4gVqDKUOa2"
      },
      "source": [
        "By checking the zip_code and start_date fields, data is the same, yet the partitioned table does not contain the partition key."
      ]
    },
    {
      "cell_type": "markdown",
      "metadata": {
        "id": "a8XkX_wPSylg"
      },
      "source": [
        "## Practical examples"
      ]
    },
    {
      "cell_type": "markdown",
      "metadata": {
        "id": "ReQIjT86ZWzf"
      },
      "source": [
        "- Read CSV\n",
        "- Read JSON\n",
        "- Read Parquet\n",
        "- Select multiple columns with PySpark vs SparkSQL query\n",
        "- Filter, group by\n",
        "- Join two tables\n",
        "- Print schema\n",
        "- Save to persistent tables\n",
        "- Cache data in memory\n",
        "- Programatically specifying the schema\n",
        "- Partinioning example"
      ]
    },
    {
      "cell_type": "markdown",
      "metadata": {
        "id": "wLMD6zN1Te3t"
      },
      "source": [
        "## Read CSV\n"
      ]
    },
    {
      "cell_type": "code",
      "execution_count": null,
      "metadata": {
        "colab": {
          "base_uri": "https://localhost:8080/"
        },
        "id": "buRfNvLwqEjg",
        "outputId": "489a65a7-de03-4804-e613-487cf8e63ef0"
      },
      "outputs": [
        {
          "output_type": "stream",
          "name": "stdout",
          "text": [
            "+---+--------------------+------------------+-------------------+----------+------------+-----------------+\n",
            "| id|                name|               lat|               long|dock_count|        city|installation_date|\n",
            "+---+--------------------+------------------+-------------------+----------+------------+-----------------+\n",
            "|  2|San Jose Diridon ...|         37.329732|-121.90178200000001|        27|    San Jose|         8/6/2013|\n",
            "|  3|San Jose Civic Ce...|         37.330698|        -121.888979|        15|    San Jose|         8/5/2013|\n",
            "|  4|Santa Clara at Al...|         37.333988|        -121.894902|        11|    San Jose|         8/6/2013|\n",
            "|  5|    Adobe on Almaden|         37.331415|          -121.8932|        19|    San Jose|         8/5/2013|\n",
            "|  6|    San Pedro Square|37.336721000000004|        -121.894074|        15|    San Jose|         8/7/2013|\n",
            "|  7|Paseo de San Antonio|         37.333798|-121.88694299999999|        15|    San Jose|         8/7/2013|\n",
            "|  8| San Salvador at 1st|         37.330165|-121.88583100000001|        15|    San Jose|         8/5/2013|\n",
            "|  9|           Japantown|         37.348742|-121.89471499999999|        15|    San Jose|         8/5/2013|\n",
            "| 10|  San Jose City Hall|         37.337391|        -121.886995|        15|    San Jose|         8/6/2013|\n",
            "| 11|         MLK Library|         37.335885|-121.88566000000002|        19|    San Jose|         8/6/2013|\n",
            "| 12|SJSU 4th at San C...|         37.332808|-121.88389099999999|        19|    San Jose|         8/7/2013|\n",
            "| 13|       St James Park|         37.339301|-121.88993700000002|        15|    San Jose|         8/6/2013|\n",
            "| 14|Arena Green / SAP...|         37.332692|        -121.900084|        19|    San Jose|         8/5/2013|\n",
            "| 16|SJSU - San Salvad...|37.333954999999996|        -121.877349|        15|    San Jose|         8/7/2013|\n",
            "| 21|   Franklin at Maple|         37.481758|        -122.226904|        15|Redwood City|        8/12/2013|\n",
            "| 22|Redwood City Calt...|37.486078000000006|-122.23208899999999|        25|Redwood City|        8/15/2013|\n",
            "| 23|San Mateo County ...|37.487615999999996|        -122.229951|        15|Redwood City|        8/15/2013|\n",
            "| 24|Redwood City Publ...|         37.484219|        -122.227424|        15|Redwood City|        8/12/2013|\n",
            "| 25|Stanford in Redwo...|          37.48537|-122.20328799999999|        15|Redwood City|        8/12/2013|\n",
            "| 26|Redwood City Medi...|         37.487682|        -122.223492|        15|Redwood City|        8/12/2013|\n",
            "+---+--------------------+------------------+-------------------+----------+------------+-----------------+\n",
            "only showing top 20 rows\n",
            "\n"
          ]
        }
      ],
      "source": [
        "# Let's get an spark session\n",
        "spark = get_spark()\n",
        "\n",
        "station_csv_df=spark.read.csv(\"s3a://msin0166-spark-workshop/data/sf_bike_sharing_data/station.csv\",header=True)\n",
        "station_csv_df.show()"
      ]
    },
    {
      "cell_type": "code",
      "execution_count": null,
      "metadata": {
        "colab": {
          "base_uri": "https://localhost:8080/"
        },
        "id": "yP_L3B8hqEmw",
        "outputId": "ea51811d-17b0-4d2e-cd47-87a3bfd65509"
      },
      "outputs": [
        {
          "output_type": "stream",
          "name": "stdout",
          "text": [
            "root\n",
            " |-- id: string (nullable = true)\n",
            " |-- name: string (nullable = true)\n",
            " |-- lat: string (nullable = true)\n",
            " |-- long: string (nullable = true)\n",
            " |-- dock_count: string (nullable = true)\n",
            " |-- city: string (nullable = true)\n",
            " |-- installation_date: string (nullable = true)\n",
            "\n"
          ]
        }
      ],
      "source": [
        "#Check dataframe schema\n",
        "station_csv_df.printSchema()\n"
      ]
    },
    {
      "cell_type": "markdown",
      "metadata": {
        "id": "sCKR5O2Tq6om"
      },
      "source": [
        "You can then register this dataframe as a temporary table and query it as shown in previous examples."
      ]
    },
    {
      "cell_type": "markdown",
      "metadata": {
        "id": "k7WfNEAvTi9h"
      },
      "source": [
        "## Read JSON\n",
        "**Note**: This example is based on the Yelp business dataset, provided on Moodle."
      ]
    },
    {
      "cell_type": "code",
      "execution_count": null,
      "metadata": {
        "colab": {
          "base_uri": "https://localhost:8080/"
        },
        "id": "dw9JOx1Xr9xp",
        "outputId": "e98d84fa-e3e8-4079-9050-e094b2e09338"
      },
      "outputs": [
        {
          "output_type": "stream",
          "name": "stdout",
          "text": [
            "+--------------------+--------------------+--------------------+--------------------+------------------+--------------------+-------+-------------+---------------+--------------------+-----------+------------+-----+-----+\n",
            "|             address|          attributes|         business_id|          categories|              city|               hours|is_open|     latitude|      longitude|                name|postal_code|review_count|stars|state|\n",
            "+--------------------+--------------------+--------------------+--------------------+------------------+--------------------+-------+-------------+---------------+--------------------+-----------+------------+-----+-----+\n",
            "|2818 E Camino Ace...|{null, null, null...|1SWheh84yJXfytovI...|   Golf, Active Life|           Phoenix|                null|      0|   33.5221425|   -112.0184807|Arizona Biltmore ...|      85016|           5|  3.0|   AZ|\n",
            "|30 Eglinton Avenue W|{null, null, u'fu...|QXAEGFB4oINsVuTFx...|Specialty Food, R...|       Mississauga|{9:0-1:0, 9:0-0:0...|      1|43.6054989743|  -79.652288909|Emerald Chinese R...|    L5R 3E7|         128|  2.5|   ON|\n",
            "|10110 Johnston Rd...|{null, null, u'be...|gnKjwL_1w79qoiV3I...|Sushi Bars, Resta...|         Charlotte|{17:30-22:0, 17:3...|      1|    35.092564|     -80.859132|Musashi Japanese ...|      28210|         170|  4.0|   NC|\n",
            "|15655 W Roosevelt...|                null|xvX2CttrVhyG2z1dF...|Insurance, Financ...|          Goodyear|{8:0-17:0, 8:0-17...|      1|33.4556129678|-112.3955963552|Farmers Insurance...|      85338|           3|  5.0|   AZ|\n",
            "|4209 Stuart Andre...|{null, null, null...|HhyxOkGAM07SRYtlQ...|Plumbing, Shoppin...|         Charlotte|{7:0-23:0, 7:0-23...|      1|   35.1900119|    -80.8872232| Queen City Plumbing|      28217|           4|  4.0|   NC|\n",
            "|Credit Valley Tow...|{null, null, null...|68dUKd8_8liJ7in4a...|Shipping Centers,...|       Mississauga|{9:0-19:0, 9:0-19...|      1|   43.5994753|    -79.7115835|       The UPS Store|    L5V 0B1|           3|  2.5|   ON|\n",
            "|20 Douglas Woods ...|{null, null, null...|5JucpCfHZltJh5r1J...|Beauty & Spas, Ha...|           Calgary|                null|      1|   50.9436456|   -114.0018283|    Edgeworxx Studio|    T2Z 1K4|           7|  3.5|   AB|\n",
            "|4545 E Tropicana ...|{null, null, null...|gbQN7vr_caG_A1ugS...|Hair Salons, Hair...|         Las Vegas|{10:0-19:0, 10:0-...|      1|    36.099872|    -115.074574|           Supercuts|      89121|           3|  3.5|   NV|\n",
            "|5940 W Union Hill...|{null, null, null...|Y6iyemLX_oylRpnr3...|Nail Salons, Beau...|          Glendale|{10:0-17:0, null,...|      0|   33.6548146|   -112.1885676|Vita Bella Fine D...|      85308|           8|  5.0|   AZ|\n",
            "|     21689 Lorain Rd|{False, null, nul...|4GBVPIYRvzGh4K4Tk...|Beauty & Spas, Na...|     Fairview Park|{9:0-19:0, null, ...|      1|41.4408252653| -81.8540965503| Options Salon & Spa|      44126|           8|  4.5|   OH|\n",
            "|1210 8th Street S...|{null, null, null...|fcXOEZdXYeZqnQ3lG...|Local Services, P...|           Calgary|{9:0-17:0, 9:0-17...|      1|    51.041771|    -114.081109|Nucleus Informati...|    T2R 1L3|           5|  2.0|   AB|\n",
            "|2450 E Indian Sch...|{null, null, u'no...|1Dfx3zM-rW4n-31Ke...|Restaurants, Brea...|           Phoenix|{7:0-1:0, 7:0-0:0...|      1|   33.4951941|   -112.0285876|           Taco Bell|      85016|          18|  3.0|   AZ|\n",
            "|119 Landings Dr, ...|{null, null, 'bee...|5t3KVdMnFgAYmSl1w...|Bars, Nightlife, ...|       Mooresville|{10:0-1:0, 10:0-1...|      1|35.5274098057| -80.8680032061|The Kilted Buffal...|      28117|           9|  3.5|   NC|\n",
            "|     5981 Andrews Rd|{null, null, u'no...|fweCYi8FmbJXHCqLn...|Italian, Restaura...|Mentor-on-the-Lake|{10:0-1:0, 10:0-0...|      1|     41.70852|     -81.359556|       Marco's Pizza|      44060|          16|  4.0|   OH|\n",
            "|        4145 Erie St|{null, null, null...|-K4gAv8_vjx8-2Bxk...|      Bakeries, Food|        Willoughby|{11:0-17:0, null,...|      1|   41.6398599|    -81.4063963|          Baby Cakes|      44094|           7|  3.0|   OH|\n",
            "|    1455 16th Avenue|{null, null, null...|A98xW4qb7vOTguggH...|Fitness & Instruc...|     Richmond Hill|{16:0-21:30, 16:0...|      1| 43.861502576| -79.3884991854|   Hot Yoga Wellness|    L4B 3G6|           4|  4.0|   ON|\n",
            "|4848 E Cactus Rd,...|{null, null, null...|giC3pVVFxCRR89rAp...|Hair Stylists, Be...|        Scottsdale|{8:0-17:0, 0:0-0:...|      1|    33.600071|    -111.977371|          Knot Salon|      85254|           5|  5.0|   AZ|\n",
            "|1775 E Tropicana ...|{null, null, u'fu...|PZ-LZzSlhSe9utkQY...|Restaurants, Italian|         Las Vegas|                null|      0|   36.1000163|   -115.1285285|Carluccio's Tivol...|      89119|          40|  4.0|   NV|\n",
            "|                    |{null, null, null...|nh_kQ16QAoXWwqZ05...|Event Planning & ...|         Las Vegas|{0:0-0:0, 0:0-0:0...|      1|   36.1165487|   -115.0881146|Myron Hensel Phot...|      89121|          21|  5.0|   NV|\n",
            "|445 King Street W...|{True, null, null...|zSpQmEBvRe3IhTUlM...|Trainers, Health ...|           Toronto|{6:0-22:0, 6:0-22...|      1|   43.6450415|    -79.3957986|  Totum Life Science|    M5V 1K4|          23|  4.0|   ON|\n",
            "+--------------------+--------------------+--------------------+--------------------+------------------+--------------------+-------+-------------+---------------+--------------------+-----------+------------+-----+-----+\n",
            "only showing top 20 rows\n",
            "\n"
          ]
        }
      ],
      "source": [
        "yelp_business= spark.read.json(\"s3a://msin0166-spark-workshop/data/yelp_business_data/yelp_academic_dataset_business.json\")\n",
        "yelp_business.show()"
      ]
    },
    {
      "cell_type": "code",
      "execution_count": null,
      "metadata": {
        "id": "W0zTpcuLq2Ed"
      },
      "outputs": [],
      "source": [
        "#Register Yelp business as temporary table and query it\n",
        "yelp_business.createOrReplaceTempView(\"yelp_business\")"
      ]
    },
    {
      "cell_type": "code",
      "execution_count": null,
      "metadata": {
        "colab": {
          "base_uri": "https://localhost:8080/"
        },
        "id": "v1Y59gknrmX8",
        "outputId": "c99dbdc9-ef1a-486c-9b70-e12d9f4b8d5b"
      },
      "outputs": [
        {
          "output_type": "stream",
          "name": "stdout",
          "text": [
            "+--------+\n",
            "|count(1)|\n",
            "+--------+\n",
            "|   29370|\n",
            "+--------+\n",
            "\n"
          ]
        }
      ],
      "source": [
        "#How many businesses from Las Vegas are listed on our JSON based Yelp business dataset?\n",
        "spark.sql(\"SELECT COUNT(*) FROM (SELECT * FROM yelp_business WHERE city==\\'Las Vegas\\')\").show()"
      ]
    },
    {
      "cell_type": "markdown",
      "metadata": {
        "id": "Qn6_OostTtAq"
      },
      "source": [
        "## Read Parquet\n",
        "**Note**: This is based on the user data dataset provided on Moodle"
      ]
    },
    {
      "cell_type": "code",
      "execution_count": null,
      "metadata": {
        "id": "a8euHnrITvr6"
      },
      "outputs": [],
      "source": [
        "users_in_parquet = spark.read.parquet(\"s3a://msin0166-spark-workshop/data/userdata2.parquet\")"
      ]
    },
    {
      "cell_type": "code",
      "execution_count": null,
      "metadata": {
        "colab": {
          "base_uri": "https://localhost:8080/"
        },
        "id": "bVoHX4sUt_7o",
        "outputId": "9bd5ce67-374d-492f-cefe-0697e606bbcb"
      },
      "outputs": [
        {
          "output_type": "stream",
          "name": "stdout",
          "text": [
            "+-------------------+----+----------+---------+--------------------+------+---------------+----------------+--------------------+----------+---------+--------------------+--------+\n",
            "|  registration_dttm|  id|first_name|last_name|               email|gender|     ip_address|              cc|             country| birthdate|   salary|               title|comments|\n",
            "+-------------------+----+----------+---------+--------------------+------+---------------+----------------+--------------------+----------+---------+--------------------+--------+\n",
            "|2016-02-03 13:36:39|   1|    Donald|    Lewis|dlewis0@clickbank...|  Male|  102.22.124.20|                |           Indonesia|  7/9/1972|140249.37|Senior Financial ...|        |\n",
            "|2016-02-03 00:22:28|   2|    Walter|  Collins|wcollins1@bloglov...|  Male|   247.28.26.93|3587726269478025|               China|          |     null|                    |        |\n",
            "|2016-02-03 18:29:04|   3|  Michelle|Henderson|mhenderson2@geoci...|Female| 193.68.146.150|                |              France| 1/15/1964|236219.26|             Teacher|        |\n",
            "|2016-02-03 13:42:19|   4|      Lori|   Hudson| lhudson3@dion.ne.jp|      |  34.252.168.48|3568840151595649|              Russia| 4/22/1988|     null|Nuclear Power Eng...|        |\n",
            "|2016-02-03 00:15:29|   5|    Howard|   Miller|   hmiller4@fema.gov|  Male|103.193.150.230|3583473261055014|              France|11/26/1998| 50210.02|       Senior Editor|        |\n",
            "|2016-02-03 10:49:07|   6|   Frances|    Adams|fadams5@123-reg.c...|Female| 106.196.106.93|                |              Russia| 3/27/1997| 82175.77| Account Coordinator|        |\n",
            "|2016-02-03 19:44:12|null|    Steven|   Hanson|  shanson6@cisco.com|  Male|234.130.172.185|3550842607768119|           Indonesia|          |129582.61|                    |        |\n",
            "|2016-02-03 08:11:34|   8|     Louis|  Simmons|   lsimmons7@icio.us|  Male|    18.69.80.15|                |               China|  6/1/1992| 90744.86|    Product Engineer|        |\n",
            "|2016-02-03 23:56:51|   9|     Keith|   Parker|kparker8@amazonaw...|  Male|  108.205.40.64|                |          Guadeloupe|12/30/1992|  60618.9|        Developer II|        |\n",
            "|2016-02-03 07:47:29|  10|     Wanda|   Walker|wwalker9@latimes.com|Female|  246.214.98.78|3539421569669478|            Portugal|          |137664.53|                    |        |\n",
            "|2016-02-03 16:39:23|  11|   Kathryn|   Weaver|kweavera@bizjourn...|Female| 157.237.161.75| 201425019338900|              Sweden|          |117572.65|                    |        |\n",
            "|2016-02-03 06:50:56|  12|    Philip|     Ward| pwardb@sakura.ne.jp|  Male|  77.140.225.69| 201508031789224|              Greece|  9/3/1984|238925.79|Human Resources M...|        |\n",
            "|2016-02-03 23:36:58|  13|    Evelyn|   Harvey|   eharveyc@time.com|      |  254.174.154.7|3539535868968594|               China| 5/15/1979|     null|Software Engineer...|        |\n",
            "|2016-02-03 07:33:24|  14|    Andrea|     Lane|       alaned@gov.uk|Female|192.253.116.192|5100174455306952|           Indonesia| 1/19/1989|166778.42|            Operator|        |\n",
            "|2016-02-03 13:45:04|  15|     Bobby|  Vasquez|  bvasqueze@furl.net|  Male|  126.60.18.195|3581051861650673|         Philippines| 1/25/1975|138184.83|       Senior Editor|        |\n",
            "|2016-02-03 21:58:10|  16|   Kenneth|   Gibson|kgibsonf@soundclo...|  Male| 91.153.142.170|5389947292571488|                Peru| 11/3/1975| 98614.53|  Environmental Tech|        |\n",
            "|2016-02-03 16:22:34|  17|     Emily|     Hill|    ehillg@house.gov|Female|109.107.174.205|                |Palestinian Terri...| 5/18/1956|218781.48| Executive Secretary|        |\n",
            "|2016-02-03 23:20:49|  18|     Kelly|   Fowler|   kfowlerh@dell.com|Female|  147.58.88.116|3551741291105936|              Greece| 6/11/1975|117249.56|Systems Administr...|        |\n",
            "|2016-02-03 18:28:46|  19|     Diana|   Howell| dhowelli@sphinn.com|Female|   21.240.75.42|4026635872860296|                Iran|  7/7/1993|174844.52|             Teacher|        |\n",
            "|2016-02-03 02:23:26|  20|    Johnny|  Collins| jcollinsj@google.ca|  Male| 38.173.129.250| 372301677387203|         Afghanistan| 7/28/1987|155908.69|       Social Worker|        |\n",
            "+-------------------+----+----------+---------+--------------------+------+---------------+----------------+--------------------+----------+---------+--------------------+--------+\n",
            "only showing top 20 rows\n",
            "\n"
          ]
        }
      ],
      "source": [
        "users_in_parquet.show()"
      ]
    },
    {
      "cell_type": "code",
      "execution_count": null,
      "metadata": {
        "colab": {
          "base_uri": "https://localhost:8080/"
        },
        "id": "WKT1vCufuGHV",
        "outputId": "568261eb-036a-4e32-97f4-40081d3bcb66"
      },
      "outputs": [
        {
          "output_type": "stream",
          "name": "stderr",
          "text": [
            "/content/spark-3.2.3-bin-hadoop3.2/python/pyspark/sql/dataframe.py:138: FutureWarning: Deprecated in 2.0, use createOrReplaceTempView instead.\n",
            "  warnings.warn(\n"
          ]
        },
        {
          "output_type": "stream",
          "name": "stdout",
          "text": [
            "+-------------------+---+----------+----------+--------------------+------+---------------+------------------+-------+----------+---------+--------------------+--------------------+\n",
            "|  registration_dttm| id|first_name| last_name|               email|gender|     ip_address|                cc|country| birthdate|   salary|               title|            comments|\n",
            "+-------------------+---+----------+----------+--------------------+------+---------------+------------------+-------+----------+---------+--------------------+--------------------+\n",
            "|2016-02-03 00:22:28|  2|    Walter|   Collins|wcollins1@bloglov...|  Male|   247.28.26.93|  3587726269478025|  China|          |     null|                    |                    |\n",
            "|2016-02-03 08:11:34|  8|     Louis|   Simmons|   lsimmons7@icio.us|  Male|    18.69.80.15|                  |  China|  6/1/1992| 90744.86|    Product Engineer|                    |\n",
            "|2016-02-03 23:36:58| 13|    Evelyn|    Harvey|   eharveyc@time.com|      |  254.174.154.7|  3539535868968594|  China| 5/15/1979|     null|Software Engineer...|                    |\n",
            "|2016-02-03 00:07:04| 26|    Sandra|   Coleman|scolemanp@blogger...|Female| 230.159.39.252|  3555708337891155|  China|  8/7/1971|113688.11|            VP Sales|                    |\n",
            "|2016-02-03 14:17:16| 28| Elizabeth|    Warren| ewarrenr@flavors.me|Female|  213.8.204.211| 67099385430526802|  China| 6/14/1996|119515.12|    Media Manager II|                    |\n",
            "|2016-02-03 06:02:40| 42|      Fred|  Marshall|fmarshall15@ifeng...|      | 160.92.143.233|  6374102245574313|  China|12/18/1984|     null| Structural Engineer|                    |\n",
            "|2016-02-03 07:08:52| 46|   Gregory|     Jones|  gjones19@jimdo.com|  Male|  132.88.44.128|    30372001476487|  China|12/31/1972|240265.01|     Design Engineer|                    |\n",
            "|2016-02-03 22:20:33| 55|     Nancy|Montgomery|nmontgomery1i@fre...|Female|   11.235.20.56|  3586137339728301|  China|          |128631.29|                    |               $1.00|\n",
            "|2016-02-03 00:14:12| 61|      Sean|    Greene|    sgreene1o@goo.gl|  Male|  71.195.178.59|  5602246313163081|  China| 2/20/1991| 70656.63|Sales Representative|                    |\n",
            "|2016-02-03 19:22:09| 66|     Norma|      Dunn|      ndunn1t@pen.io|Female| 250.241.78.109|                  |  China| 7/20/1967|  77739.6|      Web Designer I|                    |\n",
            "|2016-02-03 07:06:55| 78|   William|   Mendoza|wmendoza25@prlog.org|  Male|   71.28.136.31|  3580069171786970|  China| 3/20/1967| 81965.94|    Media Manager II|\"ثم نفس سقطت وبال...|\n",
            "|2016-02-03 21:45:58| 84|   Anthony|    Palmer|apalmer2b@uol.com.br|      | 25.228.124.126|  3561410660537354|  China|  7/4/1974|     null|Human Resources A...|                    |\n",
            "|2016-02-03 07:10:21| 89|   Heather|      Diaz|   hdiaz2g@tmall.com|Female|220.248.165.145|502080553226612964|  China| 7/26/1966|280714.33|        Food Chemist|                    |\n",
            "|2016-02-03 23:32:20| 91|    Donald|    Murphy|  dmurphy2i@fema.gov|  Male|127.141.234.199|                  |  China| 4/10/1977| 76449.81|     Cost Accountant|                    |\n",
            "|2016-02-03 01:14:15| 94|      Carl|    Oliver|coliver2l@cafepre...|  Male|  199.184.71.24|                  |  China| 6/26/1967|215279.38|            Operator|   (╯°□°）╯︵ ┻━┻)  |\n",
            "|2016-02-03 07:39:44|104|    Justin|  Stephens| jstephens2v@msu.edu|  Male| 158.63.150.239|                  |  China| 7/27/1980|124569.44| Structural Engineer|                    |\n",
            "|2016-02-03 20:48:18|122|   Kathryn|   Stevens|kstevens3d@weibo.com|Female| 121.215.60.247|                  |  China|  2/7/1998|200892.56|Accounting Assist...|                    |\n",
            "|2016-02-03 08:50:46|125|   Rebecca|   Elliott|relliott3g@diigo.com|      | 84.236.188.212|  6384410944097587|  China|12/23/1969|     null|       Senior Editor|                    |\n",
            "|2016-02-03 00:50:58|129|     Paula|    Oliver|poliver3k@barnesa...|Female| 108.49.104.111|  3551237510305944|  China|          |149572.54|                    |                    |\n",
            "|2016-02-03 13:31:06|131|    George|   Jenkins|gjenkins3m@thetim...|  Male| 52.156.166.198|                  |  China| 10/3/1987| 40544.17|Computer Systems ...|              ⁦test⁧|\n",
            "+-------------------+---+----------+----------+--------------------+------+---------------+------------------+-------+----------+---------+--------------------+--------------------+\n",
            "only showing top 20 rows\n",
            "\n"
          ]
        }
      ],
      "source": [
        "users_in_parquet.registerTempTable(\"users_2\")\n",
        "spark.sql(\"SELECT * FROM users_2 WHERE country==\\'China\\'\").show()"
      ]
    },
    {
      "cell_type": "markdown",
      "metadata": {
        "id": "FEu1rn0HT5OS"
      },
      "source": [
        "## Select multiple columns with PySpark vs SparkSQL query"
      ]
    },
    {
      "cell_type": "code",
      "execution_count": null,
      "metadata": {
        "colab": {
          "base_uri": "https://localhost:8080/"
        },
        "id": "6bReMTfTT5Xo",
        "outputId": "86a6119d-711a-4818-df5f-4faa5650f127"
      },
      "outputs": [
        {
          "output_type": "stream",
          "name": "stdout",
          "text": [
            "+----------+---------+\n",
            "|first_name|last_name|\n",
            "+----------+---------+\n",
            "|    Donald|    Lewis|\n",
            "|    Walter|  Collins|\n",
            "|  Michelle|Henderson|\n",
            "|      Lori|   Hudson|\n",
            "|    Howard|   Miller|\n",
            "|   Frances|    Adams|\n",
            "|    Steven|   Hanson|\n",
            "|     Louis|  Simmons|\n",
            "|     Keith|   Parker|\n",
            "|     Wanda|   Walker|\n",
            "|   Kathryn|   Weaver|\n",
            "|    Philip|     Ward|\n",
            "|    Evelyn|   Harvey|\n",
            "|    Andrea|     Lane|\n",
            "|     Bobby|  Vasquez|\n",
            "|   Kenneth|   Gibson|\n",
            "|     Emily|     Hill|\n",
            "|     Kelly|   Fowler|\n",
            "|     Diana|   Howell|\n",
            "|    Johnny|  Collins|\n",
            "+----------+---------+\n",
            "only showing top 20 rows\n",
            "\n"
          ]
        }
      ],
      "source": [
        "# Select columns using PySpark\n",
        "users_in_parquet.select(\"first_name\",\"last_name\").show()"
      ]
    },
    {
      "cell_type": "code",
      "execution_count": null,
      "metadata": {
        "colab": {
          "base_uri": "https://localhost:8080/"
        },
        "id": "iXx9ATqgWgDN",
        "outputId": "f1b997a2-fcbe-4b79-9878-fe3c5e65ddc0"
      },
      "outputs": [
        {
          "output_type": "stream",
          "name": "stdout",
          "text": [
            "+----------+---------+\n",
            "|first_name|last_name|\n",
            "+----------+---------+\n",
            "|    Donald|    Lewis|\n",
            "|    Walter|  Collins|\n",
            "|  Michelle|Henderson|\n",
            "|      Lori|   Hudson|\n",
            "|    Howard|   Miller|\n",
            "|   Frances|    Adams|\n",
            "|    Steven|   Hanson|\n",
            "|     Louis|  Simmons|\n",
            "|     Keith|   Parker|\n",
            "|     Wanda|   Walker|\n",
            "|   Kathryn|   Weaver|\n",
            "|    Philip|     Ward|\n",
            "|    Evelyn|   Harvey|\n",
            "|    Andrea|     Lane|\n",
            "|     Bobby|  Vasquez|\n",
            "|   Kenneth|   Gibson|\n",
            "|     Emily|     Hill|\n",
            "|     Kelly|   Fowler|\n",
            "|     Diana|   Howell|\n",
            "|    Johnny|  Collins|\n",
            "+----------+---------+\n",
            "\n"
          ]
        }
      ],
      "source": [
        "# Select columns using Spark SQL\n",
        "spark.sql(\"SELECT first_name,last_name FROM users_2 LIMIT 20\").show()"
      ]
    },
    {
      "cell_type": "code",
      "execution_count": null,
      "metadata": {
        "colab": {
          "base_uri": "https://localhost:8080/"
        },
        "id": "RyI8pt5lVp6l",
        "outputId": "b97a3ef1-dfe9-467d-f36b-7f57f508dec8"
      },
      "outputs": [
        {
          "output_type": "stream",
          "name": "stdout",
          "text": [
            "+--------------------+--------------------+-------+--------+\n",
            "|  start_station_name|    end_station_name|bike_id|duration|\n",
            "+--------------------+--------------------+-------+--------+\n",
            "|South Van Ness at...|South Van Ness at...|    520|      63|\n",
            "|  San Jose City Hall|  San Jose City Hall|    661|      70|\n",
            "|Mountain View Cit...|Mountain View Cit...|     48|      71|\n",
            "|  San Jose City Hall|  San Jose City Hall|     26|      77|\n",
            "|South Van Ness at...|      Market at 10th|    319|      83|\n",
            "| Golden Gate at Polk| Golden Gate at Polk|    527|     103|\n",
            "|Santa Clara at Al...|    Adobe on Almaden|    679|     109|\n",
            "| San Salvador at 1st| San Salvador at 1st|    687|     111|\n",
            "|South Van Ness at...|South Van Ness at...|    553|     113|\n",
            "|  San Jose City Hall|         MLK Library|    107|     114|\n",
            "|     Spear at Folsom|Embarcadero at Br...|    368|     125|\n",
            "|    San Pedro Square|Santa Clara at Al...|     26|     126|\n",
            "|Mountain View Cal...|Mountain View Cal...|    140|     129|\n",
            "|   2nd at South Park|   2nd at South Park|    371|     130|\n",
            "|     Clay at Battery|     Beale at Market|    503|     134|\n",
            "|     Post at Kearney|     Post at Kearney|    408|     138|\n",
            "|  San Jose City Hall|  San Jose City Hall|     26|     141|\n",
            "|      Market at 10th|      Market at 10th|    319|     142|\n",
            "|   Steuart at Market|Harry Bridges Pla...|    564|     142|\n",
            "|  Powell Street BART|       Market at 4th|    574|     144|\n",
            "+--------------------+--------------------+-------+--------+\n",
            "only showing top 20 rows\n",
            "\n"
          ]
        }
      ],
      "source": [
        "# Select columns using PySpark\n",
        "subscribers.select(\"start_station_name\",\"end_station_name\",\"bike_id\",\"duration\").show()"
      ]
    },
    {
      "cell_type": "code",
      "execution_count": null,
      "metadata": {
        "colab": {
          "base_uri": "https://localhost:8080/"
        },
        "id": "SuyoyXamum2x",
        "outputId": "c27681cb-7252-4efa-bf44-0a7c405e7048"
      },
      "outputs": [
        {
          "output_type": "stream",
          "name": "stdout",
          "text": [
            "+--------------------+--------------------+-------+--------+\n",
            "|  start_station_name|    end_station_name|bike_id|duration|\n",
            "+--------------------+--------------------+-------+--------+\n",
            "|South Van Ness at...|South Van Ness at...|    520|      63|\n",
            "|  San Jose City Hall|  San Jose City Hall|    661|      70|\n",
            "|Mountain View Cit...|Mountain View Cit...|     48|      71|\n",
            "|  San Jose City Hall|  San Jose City Hall|     26|      77|\n",
            "|South Van Ness at...|      Market at 10th|    319|      83|\n",
            "| Golden Gate at Polk| Golden Gate at Polk|    527|     103|\n",
            "|Santa Clara at Al...|    Adobe on Almaden|    679|     109|\n",
            "| San Salvador at 1st| San Salvador at 1st|    687|     111|\n",
            "|South Van Ness at...|South Van Ness at...|    553|     113|\n",
            "|  San Jose City Hall|         MLK Library|    107|     114|\n",
            "|     Spear at Folsom|Embarcadero at Br...|    368|     125|\n",
            "|    San Pedro Square|Santa Clara at Al...|     26|     126|\n",
            "|Mountain View Cal...|Mountain View Cal...|    140|     129|\n",
            "|   2nd at South Park|   2nd at South Park|    371|     130|\n",
            "|     Clay at Battery|     Beale at Market|    503|     134|\n",
            "|     Post at Kearney|     Post at Kearney|    408|     138|\n",
            "|  San Jose City Hall|  San Jose City Hall|     26|     141|\n",
            "|      Market at 10th|      Market at 10th|    319|     142|\n",
            "|   Steuart at Market|Harry Bridges Pla...|    564|     142|\n",
            "|  Powell Street BART|       Market at 4th|    574|     144|\n",
            "+--------------------+--------------------+-------+--------+\n",
            "\n"
          ]
        }
      ],
      "source": [
        "# Select columns using Spark SQL\n",
        "spark.sql(\"SELECT start_station_name,end_station_name,bike_id,duration FROM subscribers LIMIT 20\").show()"
      ]
    },
    {
      "cell_type": "markdown",
      "metadata": {
        "id": "3F-5EyRgT5gT"
      },
      "source": [
        "## Filtering and groupping by"
      ]
    },
    {
      "cell_type": "code",
      "execution_count": null,
      "metadata": {
        "colab": {
          "base_uri": "https://localhost:8080/"
        },
        "id": "ErGPrYhpT5pp",
        "outputId": "2f6acf55-f0c2-4100-f455-4e745d59ec9d"
      },
      "outputs": [
        {
          "output_type": "stream",
          "name": "stdout",
          "text": [
            "+-----+--------+---------------+--------------------+----------------+---------------+--------------------+--------------+-------+-----------------+--------+\n",
            "|   id|duration|     start_date|  start_station_name|start_station_id|       end_date|    end_station_name|end_station_id|bike_id|subscription_type|zip_code|\n",
            "+-----+--------+---------------+--------------------+----------------+---------------+--------------------+--------------+-------+-----------------+--------+\n",
            "| 4576|      63|8/29/2013 14:13|South Van Ness at...|              66|8/29/2013 14:14|South Van Ness at...|            66|    520|       Subscriber|   94127|\n",
            "| 4607|      70|8/29/2013 14:42|  San Jose City Hall|              10|8/29/2013 14:43|  San Jose City Hall|            10|    661|       Subscriber|   95138|\n",
            "| 4130|      71|8/29/2013 10:16|Mountain View Cit...|              27|8/29/2013 10:17|Mountain View Cit...|            27|     48|       Subscriber|   97214|\n",
            "| 4251|      77|8/29/2013 11:29|  San Jose City Hall|              10|8/29/2013 11:30|  San Jose City Hall|            10|     26|       Subscriber|   95060|\n",
            "| 4299|      83|8/29/2013 12:02|South Van Ness at...|              66|8/29/2013 12:04|      Market at 10th|            67|    319|       Subscriber|   94103|\n",
            "| 6115|      69|8/30/2013 16:30|       2nd at Folsom|              62|8/30/2013 16:31|       2nd at Folsom|            62|    633|       Subscriber|   94107|\n",
            "| 5349|      76|8/30/2013 10:56|  San Jose City Hall|              10|8/30/2013 10:57|         MLK Library|            11|     28|       Subscriber|   95112|\n",
            "| 5314|      94|8/30/2013 10:44|      Market at 10th|              67|8/30/2013 10:46|South Van Ness at...|            66|    598|       Subscriber|   94703|\n",
            "| 7250|      68|8/31/2013 16:53|University and Em...|              35|8/31/2013 16:54|University and Em...|            35|    100|       Subscriber|   97214|\n",
            "| 7226|      79|8/31/2013 16:39|Harry Bridges Pla...|              50|8/31/2013 16:40|Harry Bridges Pla...|            50|    417|       Subscriber|   94041|\n",
            "| 8731|      80| 9/2/2013 11:53|Temporary Transba...|              55| 9/2/2013 11:54|Temporary Transba...|            55|    291|       Subscriber|   94111|\n",
            "| 8968|      61| 9/2/2013 14:25|Powell at Post (U...|              71| 9/2/2013 14:26|Powell at Post (U...|            71|    434|       Subscriber|   94108|\n",
            "| 9380|      89|  9/3/2013 6:34|Embarcadero at Sa...|              60|  9/3/2013 6:36|Embarcadero at Sa...|            60|    513|       Subscriber|   94111|\n",
            "| 9402|      97|  9/3/2013 7:40|Harry Bridges Pla...|              50|  9/3/2013 7:41|Harry Bridges Pla...|            50|    528|       Subscriber|   94510|\n",
            "| 9436|      92|  9/3/2013 8:30|           Japantown|               9|  9/3/2013 8:32|           Japantown|             9|    101|       Subscriber|   95112|\n",
            "| 9451|      88|  9/3/2013 8:48|Embarcadero at Fo...|              51|  9/3/2013 8:50|Embarcadero at Fo...|            51|    381|       Subscriber|   94602|\n",
            "| 9463|      85|  9/3/2013 9:01|California Ave Ca...|              36|  9/3/2013 9:02|California Ave Ca...|            36|    168|       Subscriber|   94306|\n",
            "| 9564|      91| 9/3/2013 11:13|South Van Ness at...|              66| 9/3/2013 11:14|South Van Ness at...|            66|    274|       Subscriber|   94043|\n",
            "|10053|      94| 9/3/2013 17:33|         MLK Library|              11| 9/3/2013 17:34|         MLK Library|            11|     86|       Subscriber|   95112|\n",
            "|10093|      67| 9/3/2013 18:06|South Van Ness at...|              66| 9/3/2013 18:07|South Van Ness at...|            66|    610|       Subscriber|   94117|\n",
            "+-----+--------+---------------+--------------------+----------------+---------------+--------------------+--------------+-------+-----------------+--------+\n",
            "only showing top 20 rows\n",
            "\n"
          ]
        }
      ],
      "source": [
        "# Filter data using PySpark\n",
        "subscribers.filter((subscribers.duration>60) & (subscribers.duration<=100)).show()"
      ]
    },
    {
      "cell_type": "code",
      "execution_count": null,
      "metadata": {
        "colab": {
          "base_uri": "https://localhost:8080/"
        },
        "id": "3oD0KlEuXwk9",
        "outputId": "9f730827-2e0a-43eb-8084-a3b6c5278445"
      },
      "outputs": [
        {
          "output_type": "stream",
          "name": "stdout",
          "text": [
            "+-----+--------+---------------+--------------------+----------------+---------------+--------------------+--------------+-------+-----------------+--------+\n",
            "|   id|duration|     start_date|  start_station_name|start_station_id|       end_date|    end_station_name|end_station_id|bike_id|subscription_type|zip_code|\n",
            "+-----+--------+---------------+--------------------+----------------+---------------+--------------------+--------------+-------+-----------------+--------+\n",
            "| 4576|      63|8/29/2013 14:13|South Van Ness at...|              66|8/29/2013 14:14|South Van Ness at...|            66|    520|       Subscriber|   94127|\n",
            "| 4607|      70|8/29/2013 14:42|  San Jose City Hall|              10|8/29/2013 14:43|  San Jose City Hall|            10|    661|       Subscriber|   95138|\n",
            "| 4130|      71|8/29/2013 10:16|Mountain View Cit...|              27|8/29/2013 10:17|Mountain View Cit...|            27|     48|       Subscriber|   97214|\n",
            "| 4251|      77|8/29/2013 11:29|  San Jose City Hall|              10|8/29/2013 11:30|  San Jose City Hall|            10|     26|       Subscriber|   95060|\n",
            "| 4299|      83|8/29/2013 12:02|South Van Ness at...|              66|8/29/2013 12:04|      Market at 10th|            67|    319|       Subscriber|   94103|\n",
            "| 6115|      69|8/30/2013 16:30|       2nd at Folsom|              62|8/30/2013 16:31|       2nd at Folsom|            62|    633|       Subscriber|   94107|\n",
            "| 5349|      76|8/30/2013 10:56|  San Jose City Hall|              10|8/30/2013 10:57|         MLK Library|            11|     28|       Subscriber|   95112|\n",
            "| 5314|      94|8/30/2013 10:44|      Market at 10th|              67|8/30/2013 10:46|South Van Ness at...|            66|    598|       Subscriber|   94703|\n",
            "| 7250|      68|8/31/2013 16:53|University and Em...|              35|8/31/2013 16:54|University and Em...|            35|    100|       Subscriber|   97214|\n",
            "| 7226|      79|8/31/2013 16:39|Harry Bridges Pla...|              50|8/31/2013 16:40|Harry Bridges Pla...|            50|    417|       Subscriber|   94041|\n",
            "| 8731|      80| 9/2/2013 11:53|Temporary Transba...|              55| 9/2/2013 11:54|Temporary Transba...|            55|    291|       Subscriber|   94111|\n",
            "| 8968|      61| 9/2/2013 14:25|Powell at Post (U...|              71| 9/2/2013 14:26|Powell at Post (U...|            71|    434|       Subscriber|   94108|\n",
            "| 9380|      89|  9/3/2013 6:34|Embarcadero at Sa...|              60|  9/3/2013 6:36|Embarcadero at Sa...|            60|    513|       Subscriber|   94111|\n",
            "| 9402|      97|  9/3/2013 7:40|Harry Bridges Pla...|              50|  9/3/2013 7:41|Harry Bridges Pla...|            50|    528|       Subscriber|   94510|\n",
            "| 9436|      92|  9/3/2013 8:30|           Japantown|               9|  9/3/2013 8:32|           Japantown|             9|    101|       Subscriber|   95112|\n",
            "| 9451|      88|  9/3/2013 8:48|Embarcadero at Fo...|              51|  9/3/2013 8:50|Embarcadero at Fo...|            51|    381|       Subscriber|   94602|\n",
            "| 9463|      85|  9/3/2013 9:01|California Ave Ca...|              36|  9/3/2013 9:02|California Ave Ca...|            36|    168|       Subscriber|   94306|\n",
            "| 9564|      91| 9/3/2013 11:13|South Van Ness at...|              66| 9/3/2013 11:14|South Van Ness at...|            66|    274|       Subscriber|   94043|\n",
            "|10053|      94| 9/3/2013 17:33|         MLK Library|              11| 9/3/2013 17:34|         MLK Library|            11|     86|       Subscriber|   95112|\n",
            "|10093|      67| 9/3/2013 18:06|South Van Ness at...|              66| 9/3/2013 18:07|South Van Ness at...|            66|    610|       Subscriber|   94117|\n",
            "+-----+--------+---------------+--------------------+----------------+---------------+--------------------+--------------+-------+-----------------+--------+\n",
            "only showing top 20 rows\n",
            "\n"
          ]
        }
      ],
      "source": [
        "# Filter data using Spark SQL\n",
        "spark.sql(\"SELECT * FROM subscribers WHERE duration >60 AND duration<=100\").show()"
      ]
    },
    {
      "cell_type": "code",
      "execution_count": null,
      "metadata": {
        "colab": {
          "base_uri": "https://localhost:8080/"
        },
        "id": "jthmcHYNUCZf",
        "outputId": "ff9cc9af-171a-4745-85e2-9f03ceed06fb"
      },
      "outputs": [
        {
          "output_type": "stream",
          "name": "stdout",
          "text": [
            "+-------+-------------+\n",
            "|bike_id|sum(duration)|\n",
            "+-------+-------------+\n",
            "|    675|     101382.0|\n",
            "|    467|     476556.0|\n",
            "|    296|     156101.0|\n",
            "|    691|      75062.0|\n",
            "|    125|      39139.0|\n",
            "|    451|     815995.0|\n",
            "|    666|      54649.0|\n",
            "|    124|      88313.0|\n",
            "|    447|     923226.0|\n",
            "|    591|     830507.0|\n",
            "|     51|      88612.0|\n",
            "|    574|    1034693.0|\n",
            "|    613|     914909.0|\n",
            "|    307|      82875.0|\n",
            "|    475|     684313.0|\n",
            "|    544|     797837.0|\n",
            "|    334|     934758.0|\n",
            "|    577|     784963.0|\n",
            "|    581|     906101.0|\n",
            "|    205|      86722.0|\n",
            "+-------+-------------+\n",
            "only showing top 20 rows\n",
            "\n"
          ]
        }
      ],
      "source": [
        "# Group by using PySpark\n",
        "#We have to first convert the duration to double type\n",
        "from pyspark.sql.types import DoubleType\n",
        "subscribers = subscribers.withColumn(\"duration\", subscribers[\"duration\"].cast(DoubleType()))\n",
        "subscribers.groupBy(\"bike_id\").sum(\"duration\").show()\n"
      ]
    },
    {
      "cell_type": "code",
      "execution_count": null,
      "metadata": {
        "colab": {
          "base_uri": "https://localhost:8080/"
        },
        "id": "PdF0ZYZju0xU",
        "outputId": "49238816-e8e3-45ed-e108-7f2172096716"
      },
      "outputs": [
        {
          "output_type": "stream",
          "name": "stdout",
          "text": [
            "+-------+---------+\n",
            "|bike_id| duration|\n",
            "+-------+---------+\n",
            "|    675| 101382.0|\n",
            "|    467| 476556.0|\n",
            "|    296| 156101.0|\n",
            "|    691|  75062.0|\n",
            "|    125|  39139.0|\n",
            "|    451| 815995.0|\n",
            "|    666|  54649.0|\n",
            "|    124|  88313.0|\n",
            "|    447| 923226.0|\n",
            "|    591| 830507.0|\n",
            "|     51|  88612.0|\n",
            "|    574|1034693.0|\n",
            "|    613| 914909.0|\n",
            "|    307|  82875.0|\n",
            "|    475| 684313.0|\n",
            "|    544| 797837.0|\n",
            "|    334| 934758.0|\n",
            "|    577| 784963.0|\n",
            "|    581| 906101.0|\n",
            "|    205|  86722.0|\n",
            "+-------+---------+\n",
            "only showing top 20 rows\n",
            "\n"
          ]
        }
      ],
      "source": [
        "# Group by using Spark SQL\n",
        "spark.sql(\"SELECT bike_id, SUM(duration) AS duration FROM subscribers GROUP BY bike_id\").show()"
      ]
    },
    {
      "cell_type": "markdown",
      "metadata": {
        "id": "MJQORXi7T5wU"
      },
      "source": [
        "## Joining two tables"
      ]
    },
    {
      "cell_type": "code",
      "execution_count": null,
      "metadata": {
        "colab": {
          "base_uri": "https://localhost:8080/"
        },
        "id": "B1BVNfLSZyDM",
        "outputId": "752028ac-07a0-4733-b1b5-e49ed4f8fe46"
      },
      "outputs": [
        {
          "output_type": "stream",
          "name": "stdout",
          "text": [
            "+-------+--------+\n",
            "|bike_id|duration|\n",
            "+-------+--------+\n",
            "|    520|      63|\n",
            "|    661|      70|\n",
            "|     48|      71|\n",
            "|     26|      77|\n",
            "|    319|      83|\n",
            "|    527|     103|\n",
            "|    679|     109|\n",
            "|    687|     111|\n",
            "|    553|     113|\n",
            "|    107|     114|\n",
            "|    368|     125|\n",
            "|     26|     126|\n",
            "|    140|     129|\n",
            "|    371|     130|\n",
            "|    503|     134|\n",
            "|    408|     138|\n",
            "|     26|     141|\n",
            "|    319|     142|\n",
            "|    564|     142|\n",
            "|    574|     144|\n",
            "+-------+--------+\n",
            "only showing top 20 rows\n",
            "\n"
          ]
        }
      ],
      "source": [
        "#we will first create two tables to be joined \n",
        "bike_and_duration=spark.sql(\"SELECT bike_id,duration FROM subscribers WHERE bike_id <5000\")\n",
        "bike_and_duration.show()"
      ]
    },
    {
      "cell_type": "code",
      "execution_count": null,
      "metadata": {
        "colab": {
          "base_uri": "https://localhost:8080/"
        },
        "id": "9UBD6o3paUSo",
        "outputId": "27f3dddc-8ab1-461f-fd1b-1e0ba142083b"
      },
      "outputs": [
        {
          "output_type": "stream",
          "name": "stdout",
          "text": [
            "+-------+--------------------+--------------------+\n",
            "|bike_id|  start_station_name|    end_station_name|\n",
            "+-------+--------------------+--------------------+\n",
            "|    520|South Van Ness at...|South Van Ness at...|\n",
            "|    661|  San Jose City Hall|  San Jose City Hall|\n",
            "|     48|Mountain View Cit...|Mountain View Cit...|\n",
            "|     26|  San Jose City Hall|  San Jose City Hall|\n",
            "|    319|South Van Ness at...|      Market at 10th|\n",
            "|    527| Golden Gate at Polk| Golden Gate at Polk|\n",
            "|    679|Santa Clara at Al...|    Adobe on Almaden|\n",
            "|    687| San Salvador at 1st| San Salvador at 1st|\n",
            "|    553|South Van Ness at...|South Van Ness at...|\n",
            "|    107|  San Jose City Hall|         MLK Library|\n",
            "|    368|     Spear at Folsom|Embarcadero at Br...|\n",
            "|     26|    San Pedro Square|Santa Clara at Al...|\n",
            "|    140|Mountain View Cal...|Mountain View Cal...|\n",
            "|    371|   2nd at South Park|   2nd at South Park|\n",
            "|    503|     Clay at Battery|     Beale at Market|\n",
            "|    408|     Post at Kearney|     Post at Kearney|\n",
            "|     26|  San Jose City Hall|  San Jose City Hall|\n",
            "|    319|      Market at 10th|      Market at 10th|\n",
            "|    564|   Steuart at Market|Harry Bridges Pla...|\n",
            "|    574|  Powell Street BART|       Market at 4th|\n",
            "+-------+--------------------+--------------------+\n",
            "only showing top 20 rows\n",
            "\n"
          ]
        }
      ],
      "source": [
        "bike_and_stations=spark.sql(\"SELECT bike_id,start_station_name,end_station_name FROM subscribers WHERE bike_id <5000\")\n",
        "bike_and_stations.show()"
      ]
    },
    {
      "cell_type": "code",
      "execution_count": null,
      "metadata": {
        "colab": {
          "base_uri": "https://localhost:8080/"
        },
        "id": "g-RCgtqJT55A",
        "outputId": "c892a591-72c4-444c-c59b-5fa53e7d1bf3"
      },
      "outputs": [
        {
          "output_type": "stream",
          "name": "stdout",
          "text": [
            "+-------+--------+--------------------+--------------------+\n",
            "|bike_id|duration|  start_station_name|    end_station_name|\n",
            "+-------+--------+--------------------+--------------------+\n",
            "|    107|     114|  San Jose City Hall|         MLK Library|\n",
            "|    107|     114|         MLK Library|San Jose Diridon ...|\n",
            "|    107|     114|  San Jose City Hall|San Jose Diridon ...|\n",
            "|    107|     114|San Jose Diridon ...| San Salvador at 1st|\n",
            "|    107|     114| San Salvador at 1st|Paseo de San Antonio|\n",
            "|    107|     114|Paseo de San Antonio| San Salvador at 1st|\n",
            "|    107|     114|San Jose Diridon ...|  San Jose City Hall|\n",
            "|    107|     114|  San Jose City Hall| San Salvador at 1st|\n",
            "|    107|     114| San Salvador at 1st|         MLK Library|\n",
            "|    107|     114|       St James Park|    San Pedro Square|\n",
            "|    107|     114|    San Pedro Square|SJSU - San Salvad...|\n",
            "|    107|     114|San Jose Diridon ...|Arena Green / SAP...|\n",
            "|    107|     114|Arena Green / SAP...|SJSU - San Salvad...|\n",
            "|    107|     114|SJSU - San Salvad...|         MLK Library|\n",
            "|    107|     114|         MLK Library|SJSU - San Salvad...|\n",
            "|    107|     114|SJSU - San Salvad...|         MLK Library|\n",
            "|    107|     114|         MLK Library|SJSU - San Salvad...|\n",
            "|    107|     114|SJSU - San Salvad...|Paseo de San Antonio|\n",
            "|    107|     114|Paseo de San Antonio|SJSU - San Salvad...|\n",
            "|    107|     114|Arena Green / SAP...|Arena Green / SAP...|\n",
            "+-------+--------+--------------------+--------------------+\n",
            "only showing top 20 rows\n",
            "\n"
          ]
        }
      ],
      "source": [
        "#Join two tables using PySpark\n",
        "bike_and_duration.join(bike_and_stations,on='bike_id',how='left').show()\n"
      ]
    },
    {
      "cell_type": "code",
      "execution_count": null,
      "metadata": {
        "id": "1HcX6eYkUFqk"
      },
      "outputs": [],
      "source": [
        "#Join two tables using Spark SQL\n",
        "#Create views for each dataframe for further querying\n",
        "bike_and_duration.createTempView(\"bike_and_duration\")\n",
        "bike_and_stations.createTempView(\"bike_and_stations\") \n",
        "\n"
      ]
    },
    {
      "cell_type": "code",
      "execution_count": null,
      "metadata": {
        "colab": {
          "base_uri": "https://localhost:8080/"
        },
        "id": "bwD6kC1cayxb",
        "outputId": "7d885844-7d6c-4877-b4a7-708ff917f35c"
      },
      "outputs": [
        {
          "output_type": "stream",
          "name": "stdout",
          "text": [
            "+-------+--------+--------------------+--------------------+\n",
            "|bike_id|duration|  start_station_name|    end_station_name|\n",
            "+-------+--------+--------------------+--------------------+\n",
            "|    107|     114|  San Jose City Hall|         MLK Library|\n",
            "|    107|     114|         MLK Library|San Jose Diridon ...|\n",
            "|    107|     114|  San Jose City Hall|San Jose Diridon ...|\n",
            "|    107|     114|San Jose Diridon ...| San Salvador at 1st|\n",
            "|    107|     114| San Salvador at 1st|Paseo de San Antonio|\n",
            "|    107|     114|Paseo de San Antonio| San Salvador at 1st|\n",
            "|    107|     114|San Jose Diridon ...|  San Jose City Hall|\n",
            "|    107|     114|  San Jose City Hall| San Salvador at 1st|\n",
            "|    107|     114| San Salvador at 1st|         MLK Library|\n",
            "|    107|     114|       St James Park|    San Pedro Square|\n",
            "|    107|     114|    San Pedro Square|SJSU - San Salvad...|\n",
            "|    107|     114|San Jose Diridon ...|Arena Green / SAP...|\n",
            "|    107|     114|Arena Green / SAP...|SJSU - San Salvad...|\n",
            "|    107|     114|SJSU - San Salvad...|         MLK Library|\n",
            "|    107|     114|         MLK Library|SJSU - San Salvad...|\n",
            "|    107|     114|SJSU - San Salvad...|         MLK Library|\n",
            "|    107|     114|         MLK Library|SJSU - San Salvad...|\n",
            "|    107|     114|SJSU - San Salvad...|Paseo de San Antonio|\n",
            "|    107|     114|Paseo de San Antonio|SJSU - San Salvad...|\n",
            "|    107|     114|Arena Green / SAP...|Arena Green / SAP...|\n",
            "+-------+--------+--------------------+--------------------+\n",
            "only showing top 20 rows\n",
            "\n"
          ]
        }
      ],
      "source": [
        "spark.sql(\"SELECT bike_and_duration.bike_id, bike_and_duration.duration, bike_and_stations.start_station_name,bike_and_stations.end_station_name FROM bike_and_duration LEFT JOIN bike_and_stations ON bike_and_duration.bike_id==bike_and_stations.bike_id\").show()"
      ]
    },
    {
      "cell_type": "markdown",
      "metadata": {
        "id": "tIhhIJrRUJ_E"
      },
      "source": [
        "## Save to persistent tables\n",
        "\n",
        "DataFrames can also be saved as persistent tables into Hive metastore using the saveAsTable command. \n",
        "\n",
        "Unlike the createOrReplaceTempView command, saveAsTable will materialize the contents of the DataFrame and create a pointer to the data in the Hive metastore. \n",
        "\n",
        "Persistent tables will still exist even after your Spark program has restarted, as long as you maintain your connection to the same metastore. A DataFrame for a persistent table can be created by calling the table method on a SparkSession with the name of the table.\n",
        "\n",
        "Source: https://spark.apache.org/docs/latest/sql-data-sources-load-save-functions.html#saving-to-persistent-tables"
      ]
    },
    {
      "cell_type": "code",
      "execution_count": null,
      "metadata": {
        "id": "xMVPoIcAUKMD"
      },
      "outputs": [],
      "source": [
        "joined_table=spark.sql(\"SELECT bike_and_duration.bike_id, bike_and_duration.duration, bike_and_stations.start_station_name,bike_and_stations.end_station_name FROM bike_and_duration LEFT JOIN bike_and_stations ON bike_and_duration.bike_id==bike_and_stations.bike_id LIMIT 10\")"
      ]
    },
    {
      "cell_type": "code",
      "execution_count": null,
      "metadata": {
        "id": "b-DiY6_Cc0Xw"
      },
      "outputs": [],
      "source": [
        "#joined_table.write.parquet('bike_station_duration_joined_1.parquet').saveAsTable(\"bike_station_duration_joined_final\")\n",
        "joined_table.write.mode(\"append\").saveAsTable(\"bike_station_duration_table\")"
      ]
    },
    {
      "cell_type": "code",
      "execution_count": null,
      "metadata": {
        "colab": {
          "base_uri": "https://localhost:8080/"
        },
        "id": "mrajdvORcJEe",
        "outputId": "3d2a4cc2-71fc-4f3a-cf6d-2878da61e42e"
      },
      "outputs": [
        {
          "output_type": "stream",
          "name": "stdout",
          "text": [
            "+-------+--------+--------------------+--------------------+\n",
            "|bike_id|duration|  start_station_name|    end_station_name|\n",
            "+-------+--------+--------------------+--------------------+\n",
            "|    107|     114|  San Jose City Hall|         MLK Library|\n",
            "|    107|     114|         MLK Library|San Jose Diridon ...|\n",
            "|    107|     114|  San Jose City Hall|San Jose Diridon ...|\n",
            "|    107|     114|San Jose Diridon ...| San Salvador at 1st|\n",
            "|    107|     114| San Salvador at 1st|Paseo de San Antonio|\n",
            "|    107|     114|Paseo de San Antonio| San Salvador at 1st|\n",
            "|    107|     114|San Jose Diridon ...|  San Jose City Hall|\n",
            "|    107|     114|  San Jose City Hall| San Salvador at 1st|\n",
            "|    107|     114| San Salvador at 1st|         MLK Library|\n",
            "|    107|     114|       St James Park|    San Pedro Square|\n",
            "+-------+--------+--------------------+--------------------+\n",
            "\n"
          ]
        }
      ],
      "source": [
        "spark.sql(\"SELECT * FROM bike_station_duration_table LIMIT 10\").show()"
      ]
    },
    {
      "cell_type": "markdown",
      "metadata": {
        "id": "6-xWSDXNUKUJ"
      },
      "source": [
        "## Caching data in memory\n",
        "\n",
        "For more details, please read the documentation: https://spark.apache.org/docs/latest/sql-performance-tuning.html"
      ]
    },
    {
      "cell_type": "code",
      "execution_count": null,
      "metadata": {
        "colab": {
          "base_uri": "https://localhost:8080/"
        },
        "id": "J_xjMjC0esbc",
        "outputId": "dc023603-3543-4189-f8a6-a3c4f387c37d"
      },
      "outputs": [
        {
          "output_type": "stream",
          "name": "stdout",
          "text": [
            "+----+--------+---------------+--------------------+----------------+---------------+--------------------+--------------+-------+-----------------+--------+\n",
            "|  id|duration|     start_date|  start_station_name|start_station_id|       end_date|    end_station_name|end_station_id|bike_id|subscription_type|zip_code|\n",
            "+----+--------+---------------+--------------------+----------------+---------------+--------------------+--------------+-------+-----------------+--------+\n",
            "|4576|    63.0|8/29/2013 14:13|South Van Ness at...|              66|8/29/2013 14:14|South Van Ness at...|            66|    520|       Subscriber|   94127|\n",
            "|4607|    70.0|8/29/2013 14:42|  San Jose City Hall|              10|8/29/2013 14:43|  San Jose City Hall|            10|    661|       Subscriber|   95138|\n",
            "|4130|    71.0|8/29/2013 10:16|Mountain View Cit...|              27|8/29/2013 10:17|Mountain View Cit...|            27|     48|       Subscriber|   97214|\n",
            "|4251|    77.0|8/29/2013 11:29|  San Jose City Hall|              10|8/29/2013 11:30|  San Jose City Hall|            10|     26|       Subscriber|   95060|\n",
            "|4299|    83.0|8/29/2013 12:02|South Van Ness at...|              66|8/29/2013 12:04|      Market at 10th|            67|    319|       Subscriber|   94103|\n",
            "|4927|   103.0|8/29/2013 18:54| Golden Gate at Polk|              59|8/29/2013 18:56| Golden Gate at Polk|            59|    527|       Subscriber|   94109|\n",
            "|4500|   109.0|8/29/2013 13:25|Santa Clara at Al...|               4|8/29/2013 13:27|    Adobe on Almaden|             5|    679|       Subscriber|   95112|\n",
            "|4563|   111.0|8/29/2013 14:02| San Salvador at 1st|               8|8/29/2013 14:04| San Salvador at 1st|             8|    687|       Subscriber|   95112|\n",
            "|4760|   113.0|8/29/2013 17:01|South Van Ness at...|              66|8/29/2013 17:03|South Van Ness at...|            66|    553|       Subscriber|   94103|\n",
            "|4258|   114.0|8/29/2013 11:33|  San Jose City Hall|              10|8/29/2013 11:35|         MLK Library|            11|    107|       Subscriber|   95060|\n",
            "|4549|   125.0|8/29/2013 13:52|     Spear at Folsom|              49|8/29/2013 13:55|Embarcadero at Br...|            54|    368|       Subscriber|   94109|\n",
            "|4498|   126.0|8/29/2013 13:23|    San Pedro Square|               6|8/29/2013 13:25|Santa Clara at Al...|             4|     26|       Subscriber|   95112|\n",
            "|4965|   129.0|8/29/2013 19:32|Mountain View Cal...|              28|8/29/2013 19:35|Mountain View Cal...|            28|    140|       Subscriber|   94041|\n",
            "|4557|   130.0|8/29/2013 13:57|   2nd at South Park|              64|8/29/2013 13:59|   2nd at South Park|            64|    371|       Subscriber|   94122|\n",
            "|4386|   134.0|8/29/2013 12:31|     Clay at Battery|              41|8/29/2013 12:33|     Beale at Market|            56|    503|       Subscriber|   94109|\n",
            "|4749|   138.0|8/29/2013 16:57|     Post at Kearney|              47|8/29/2013 16:59|     Post at Kearney|            47|    408|       Subscriber|   94117|\n",
            "|4242|   141.0|8/29/2013 11:25|  San Jose City Hall|              10|8/29/2013 11:27|  San Jose City Hall|            10|     26|       Subscriber|   95060|\n",
            "|4329|   142.0|8/29/2013 12:11|      Market at 10th|              67|8/29/2013 12:14|      Market at 10th|            67|    319|       Subscriber|   94103|\n",
            "|5097|   142.0|8/29/2013 22:21|   Steuart at Market|              74|8/29/2013 22:24|Harry Bridges Pla...|            50|    564|       Subscriber|   94115|\n",
            "|5084|   144.0|8/29/2013 22:06|  Powell Street BART|              39|8/29/2013 22:08|       Market at 4th|            76|    574|       Subscriber|   94115|\n",
            "+----+--------+---------------+--------------------+----------------+---------------+--------------------+--------------+-------+-----------------+--------+\n",
            "only showing top 20 rows\n",
            "\n"
          ]
        }
      ],
      "source": [
        "from time import time\n",
        "\n",
        "start_time=time()\n",
        "subscribers.show()\n",
        "end_time=time()"
      ]
    },
    {
      "cell_type": "code",
      "execution_count": null,
      "metadata": {
        "colab": {
          "base_uri": "https://localhost:8080/"
        },
        "id": "TGbtUtVEhrBz",
        "outputId": "31d9c44b-85c9-469d-d176-90e4b318adb5"
      },
      "outputs": [
        {
          "output_type": "stream",
          "name": "stdout",
          "text": [
            "Processing without cache time difference 0.9082796573638916\n"
          ]
        }
      ],
      "source": [
        "print(\"Processing without cache time difference\",end_time - start_time)"
      ]
    },
    {
      "cell_type": "code",
      "execution_count": null,
      "metadata": {
        "colab": {
          "base_uri": "https://localhost:8080/"
        },
        "id": "bj9juC7JUKcU",
        "outputId": "13952512-190e-4c24-e71d-e392c926822d"
      },
      "outputs": [
        {
          "output_type": "execute_result",
          "data": {
            "text/plain": [
              "DataFrame[id: string, duration: double, start_date: string, start_station_name: string, start_station_id: string, end_date: string, end_station_name: string, end_station_id: string, bike_id: string, subscription_type: string, zip_code: string]"
            ]
          },
          "metadata": {},
          "execution_count": 58
        }
      ],
      "source": [
        "subscribers.cache()"
      ]
    },
    {
      "cell_type": "code",
      "execution_count": null,
      "metadata": {
        "colab": {
          "base_uri": "https://localhost:8080/"
        },
        "id": "UdOJ3c0yfPCT",
        "outputId": "711bb8d2-b62f-4c7b-a9cd-42a4bc36b42e"
      },
      "outputs": [
        {
          "output_type": "stream",
          "name": "stdout",
          "text": [
            "+----+--------+---------------+--------------------+----------------+---------------+--------------------+--------------+-------+-----------------+--------+\n",
            "|  id|duration|     start_date|  start_station_name|start_station_id|       end_date|    end_station_name|end_station_id|bike_id|subscription_type|zip_code|\n",
            "+----+--------+---------------+--------------------+----------------+---------------+--------------------+--------------+-------+-----------------+--------+\n",
            "|4576|    63.0|8/29/2013 14:13|South Van Ness at...|              66|8/29/2013 14:14|South Van Ness at...|            66|    520|       Subscriber|   94127|\n",
            "|4607|    70.0|8/29/2013 14:42|  San Jose City Hall|              10|8/29/2013 14:43|  San Jose City Hall|            10|    661|       Subscriber|   95138|\n",
            "|4130|    71.0|8/29/2013 10:16|Mountain View Cit...|              27|8/29/2013 10:17|Mountain View Cit...|            27|     48|       Subscriber|   97214|\n",
            "|4251|    77.0|8/29/2013 11:29|  San Jose City Hall|              10|8/29/2013 11:30|  San Jose City Hall|            10|     26|       Subscriber|   95060|\n",
            "|4299|    83.0|8/29/2013 12:02|South Van Ness at...|              66|8/29/2013 12:04|      Market at 10th|            67|    319|       Subscriber|   94103|\n",
            "|4927|   103.0|8/29/2013 18:54| Golden Gate at Polk|              59|8/29/2013 18:56| Golden Gate at Polk|            59|    527|       Subscriber|   94109|\n",
            "|4500|   109.0|8/29/2013 13:25|Santa Clara at Al...|               4|8/29/2013 13:27|    Adobe on Almaden|             5|    679|       Subscriber|   95112|\n",
            "|4563|   111.0|8/29/2013 14:02| San Salvador at 1st|               8|8/29/2013 14:04| San Salvador at 1st|             8|    687|       Subscriber|   95112|\n",
            "|4760|   113.0|8/29/2013 17:01|South Van Ness at...|              66|8/29/2013 17:03|South Van Ness at...|            66|    553|       Subscriber|   94103|\n",
            "|4258|   114.0|8/29/2013 11:33|  San Jose City Hall|              10|8/29/2013 11:35|         MLK Library|            11|    107|       Subscriber|   95060|\n",
            "|4549|   125.0|8/29/2013 13:52|     Spear at Folsom|              49|8/29/2013 13:55|Embarcadero at Br...|            54|    368|       Subscriber|   94109|\n",
            "|4498|   126.0|8/29/2013 13:23|    San Pedro Square|               6|8/29/2013 13:25|Santa Clara at Al...|             4|     26|       Subscriber|   95112|\n",
            "|4965|   129.0|8/29/2013 19:32|Mountain View Cal...|              28|8/29/2013 19:35|Mountain View Cal...|            28|    140|       Subscriber|   94041|\n",
            "|4557|   130.0|8/29/2013 13:57|   2nd at South Park|              64|8/29/2013 13:59|   2nd at South Park|            64|    371|       Subscriber|   94122|\n",
            "|4386|   134.0|8/29/2013 12:31|     Clay at Battery|              41|8/29/2013 12:33|     Beale at Market|            56|    503|       Subscriber|   94109|\n",
            "|4749|   138.0|8/29/2013 16:57|     Post at Kearney|              47|8/29/2013 16:59|     Post at Kearney|            47|    408|       Subscriber|   94117|\n",
            "|4242|   141.0|8/29/2013 11:25|  San Jose City Hall|              10|8/29/2013 11:27|  San Jose City Hall|            10|     26|       Subscriber|   95060|\n",
            "|4329|   142.0|8/29/2013 12:11|      Market at 10th|              67|8/29/2013 12:14|      Market at 10th|            67|    319|       Subscriber|   94103|\n",
            "|5097|   142.0|8/29/2013 22:21|   Steuart at Market|              74|8/29/2013 22:24|Harry Bridges Pla...|            50|    564|       Subscriber|   94115|\n",
            "|5084|   144.0|8/29/2013 22:06|  Powell Street BART|              39|8/29/2013 22:08|       Market at 4th|            76|    574|       Subscriber|   94115|\n",
            "+----+--------+---------------+--------------------+----------------+---------------+--------------------+--------------+-------+-----------------+--------+\n",
            "only showing top 20 rows\n",
            "\n"
          ]
        }
      ],
      "source": [
        "cache_start_time=time()\n",
        "subscribers.show()\n",
        "cache_end_time=time()\n"
      ]
    },
    {
      "cell_type": "code",
      "execution_count": null,
      "metadata": {
        "colab": {
          "base_uri": "https://localhost:8080/"
        },
        "id": "JGxy23vkfdok",
        "outputId": "50ae595f-c281-4edc-b45b-5789db491b3c"
      },
      "outputs": [
        {
          "output_type": "stream",
          "name": "stdout",
          "text": [
            "Processing with cache time difference 4.388555288314819\n"
          ]
        }
      ],
      "source": [
        "print(\"Processing with cache time difference\",cache_end_time - cache_start_time)"
      ]
    },
    {
      "cell_type": "markdown",
      "metadata": {
        "id": "eN9cQbgtUKkk"
      },
      "source": [
        "## Specify the schema in a programmatic way\n",
        "\n",
        "For more details, read the Spark documentation: https://spark.apache.org/docs/2.3.0/sql-programming-guide.html#programmatically-specifying-the-schema"
      ]
    },
    {
      "cell_type": "code",
      "execution_count": null,
      "metadata": {
        "id": "ZptctUDDUKsJ",
        "colab": {
          "base_uri": "https://localhost:8080/"
        },
        "outputId": "e0f9c2de-7020-475b-97d4-757e0a452b53"
      },
      "outputs": [
        {
          "output_type": "stream",
          "name": "stderr",
          "text": [
            "/content/spark-3.2.3-bin-hadoop3.2/python/pyspark/sql/dataframe.py:138: FutureWarning: Deprecated in 2.0, use createOrReplaceTempView instead.\n",
            "  warnings.warn(\n"
          ]
        }
      ],
      "source": [
        "# Load a text file and convert each line to a tuple.\n",
        "from pyspark.sql.types import StructField, StructType, StringType\n",
        "\n",
        "table_without_schema = spark.sql(\"SELECT * FROM bike_station_duration_table LIMIT 10\").rdd\n",
        "\n",
        "# The schema is encoded in a string.\n",
        "schemaString = \"bike_id duration start_station_name end_station_name\"\n",
        "\n",
        "fields = [StructField(field_name, StringType(), True) for field_name in schemaString.split()]\n",
        "schema = StructType(fields)\n",
        "\n",
        "# Apply the schema to the RDD.\n",
        "schematable = spark.createDataFrame(table_without_schema, schema)\n",
        "\n",
        "# Register the DataFrame as a table.\n",
        "schematable.registerTempTable(\"table_with_schema\")\n",
        "\n",
        "# SQL can be run over DataFrames that have been registered as a table.\n",
        "results = spark.sql(\"SELECT bike_id FROM table_with_schema\")\n"
      ]
    },
    {
      "cell_type": "code",
      "execution_count": null,
      "metadata": {
        "colab": {
          "base_uri": "https://localhost:8080/"
        },
        "id": "1ecfN1HflOJJ",
        "outputId": "27efa0b6-009d-4edc-b25e-6efed02f922a"
      },
      "outputs": [
        {
          "output_type": "stream",
          "name": "stdout",
          "text": [
            "+-------+\n",
            "|bike_id|\n",
            "+-------+\n",
            "|    107|\n",
            "|    107|\n",
            "|    107|\n",
            "|    107|\n",
            "|    107|\n",
            "|    107|\n",
            "|    107|\n",
            "|    107|\n",
            "|    107|\n",
            "|    107|\n",
            "+-------+\n",
            "\n"
          ]
        }
      ],
      "source": [
        "results.show()"
      ]
    },
    {
      "cell_type": "markdown",
      "metadata": {
        "id": "X7mSMfd6ZXK9"
      },
      "source": [
        "## Spark SQL vs querying Pandas DataFrames"
      ]
    },
    {
      "cell_type": "code",
      "execution_count": null,
      "metadata": {
        "id": "JHLKPFgipbDg"
      },
      "outputs": [],
      "source": [
        "import pandas as pd\n",
        "from time import time\n",
        "\n",
        "start_time=time()\n",
        "\n",
        "pandas_df = pd.read_csv(\"s3://msin0166-spark-workshop/data/sf_bike_sharing_data/station.csv\")\n",
        "\n",
        "end_time=time()"
      ]
    },
    {
      "cell_type": "code",
      "execution_count": null,
      "metadata": {
        "id": "a4d7AldxClDz"
      },
      "outputs": [],
      "source": [
        "start_time_spark=time()\n",
        "station_df = spark.read.csv(\"s3a://msin0166-spark-workshop/data/sf_bike_sharing_data/station.csv\",header=True)\n",
        "end_time_spark=time()"
      ]
    },
    {
      "cell_type": "markdown",
      "source": [
        "<div class=\"alert alert-block alert-info\">\n",
        "\n",
        "We may have noticed that we are usin `s3a//` for Spark and `s3://` for Pandas. This is because Spark is using the S3A file system implementation and Pandas is using the S3 file system implementation from the `s3fs` library.\n",
        "\n",
        "<div>"
      ],
      "metadata": {
        "id": "9Cqz_T81fUa2"
      }
    },
    {
      "cell_type": "code",
      "execution_count": null,
      "metadata": {
        "colab": {
          "base_uri": "https://localhost:8080/"
        },
        "id": "CtVPHnGIeFU3",
        "outputId": "122ae687-4ef9-4d2d-cd3f-d86c75394ced"
      },
      "outputs": [
        {
          "output_type": "stream",
          "name": "stdout",
          "text": [
            "+---+--------------------+------------------+-------------------+----------+------------+-----------------+\n",
            "| id|                name|               lat|               long|dock_count|        city|installation_date|\n",
            "+---+--------------------+------------------+-------------------+----------+------------+-----------------+\n",
            "|  2|San Jose Diridon ...|         37.329732|-121.90178200000001|        27|    San Jose|         8/6/2013|\n",
            "|  3|San Jose Civic Ce...|         37.330698|        -121.888979|        15|    San Jose|         8/5/2013|\n",
            "|  4|Santa Clara at Al...|         37.333988|        -121.894902|        11|    San Jose|         8/6/2013|\n",
            "|  5|    Adobe on Almaden|         37.331415|          -121.8932|        19|    San Jose|         8/5/2013|\n",
            "|  6|    San Pedro Square|37.336721000000004|        -121.894074|        15|    San Jose|         8/7/2013|\n",
            "|  7|Paseo de San Antonio|         37.333798|-121.88694299999999|        15|    San Jose|         8/7/2013|\n",
            "|  8| San Salvador at 1st|         37.330165|-121.88583100000001|        15|    San Jose|         8/5/2013|\n",
            "|  9|           Japantown|         37.348742|-121.89471499999999|        15|    San Jose|         8/5/2013|\n",
            "| 10|  San Jose City Hall|         37.337391|        -121.886995|        15|    San Jose|         8/6/2013|\n",
            "| 11|         MLK Library|         37.335885|-121.88566000000002|        19|    San Jose|         8/6/2013|\n",
            "| 12|SJSU 4th at San C...|         37.332808|-121.88389099999999|        19|    San Jose|         8/7/2013|\n",
            "| 13|       St James Park|         37.339301|-121.88993700000002|        15|    San Jose|         8/6/2013|\n",
            "| 14|Arena Green / SAP...|         37.332692|        -121.900084|        19|    San Jose|         8/5/2013|\n",
            "| 16|SJSU - San Salvad...|37.333954999999996|        -121.877349|        15|    San Jose|         8/7/2013|\n",
            "| 21|   Franklin at Maple|         37.481758|        -122.226904|        15|Redwood City|        8/12/2013|\n",
            "| 22|Redwood City Calt...|37.486078000000006|-122.23208899999999|        25|Redwood City|        8/15/2013|\n",
            "| 23|San Mateo County ...|37.487615999999996|        -122.229951|        15|Redwood City|        8/15/2013|\n",
            "| 24|Redwood City Publ...|         37.484219|        -122.227424|        15|Redwood City|        8/12/2013|\n",
            "| 25|Stanford in Redwo...|          37.48537|-122.20328799999999|        15|Redwood City|        8/12/2013|\n",
            "| 26|Redwood City Medi...|         37.487682|        -122.223492|        15|Redwood City|        8/12/2013|\n",
            "+---+--------------------+------------------+-------------------+----------+------------+-----------------+\n",
            "only showing top 20 rows\n",
            "\n"
          ]
        }
      ],
      "source": [
        "station_df.show()"
      ]
    },
    {
      "cell_type": "code",
      "execution_count": null,
      "metadata": {
        "colab": {
          "base_uri": "https://localhost:8080/"
        },
        "id": "a3vCfotSvRCM",
        "outputId": "b0ab1a20-6358-4f1d-c433-75484154be11"
      },
      "outputs": [
        {
          "output_type": "stream",
          "name": "stdout",
          "text": [
            "+---+--------------------+------------------+-------------------+----------+--------+-----------------+\n",
            "| id|                name|               lat|               long|dock_count|    city|installation_date|\n",
            "+---+--------------------+------------------+-------------------+----------+--------+-----------------+\n",
            "|  2|San Jose Diridon ...|         37.329732|-121.90178200000001|        27|San Jose|         8/6/2013|\n",
            "|  3|San Jose Civic Ce...|         37.330698|        -121.888979|        15|San Jose|         8/5/2013|\n",
            "|  4|Santa Clara at Al...|         37.333988|        -121.894902|        11|San Jose|         8/6/2013|\n",
            "|  5|    Adobe on Almaden|         37.331415|          -121.8932|        19|San Jose|         8/5/2013|\n",
            "|  6|    San Pedro Square|37.336721000000004|        -121.894074|        15|San Jose|         8/7/2013|\n",
            "|  7|Paseo de San Antonio|         37.333798|-121.88694299999999|        15|San Jose|         8/7/2013|\n",
            "|  8| San Salvador at 1st|         37.330165|-121.88583100000001|        15|San Jose|         8/5/2013|\n",
            "|  9|           Japantown|         37.348742|-121.89471499999999|        15|San Jose|         8/5/2013|\n",
            "| 10|  San Jose City Hall|         37.337391|        -121.886995|        15|San Jose|         8/6/2013|\n",
            "| 11|         MLK Library|         37.335885|-121.88566000000002|        19|San Jose|         8/6/2013|\n",
            "| 12|SJSU 4th at San C...|         37.332808|-121.88389099999999|        19|San Jose|         8/7/2013|\n",
            "| 13|       St James Park|         37.339301|-121.88993700000002|        15|San Jose|         8/6/2013|\n",
            "| 14|Arena Green / SAP...|         37.332692|        -121.900084|        19|San Jose|         8/5/2013|\n",
            "| 16|SJSU - San Salvad...|37.333954999999996|        -121.877349|        15|San Jose|         8/7/2013|\n",
            "| 80|Santa Clara Count...|         37.352601|-121.90573300000001|        15|San Jose|       12/31/2013|\n",
            "| 84|         Ryland Park|         37.342725|-121.89561699999999|        15|San Jose|         4/9/2014|\n",
            "+---+--------------------+------------------+-------------------+----------+--------+-----------------+\n",
            "\n"
          ]
        }
      ],
      "source": [
        "#Query Spark DataFrame with Spark SQL\n",
        "station_df.createTempView(\"station\")\n",
        "spark.sql(\"SELECT * FROM station where city=\\'San Jose\\'\").show()"
      ]
    },
    {
      "cell_type": "code",
      "execution_count": null,
      "metadata": {
        "colab": {
          "base_uri": "https://localhost:8080/",
          "height": 551
        },
        "id": "k2H0IMe2vRhd",
        "outputId": "26d6cd77-fec3-44b8-80be-8dde08492919"
      },
      "outputs": [
        {
          "output_type": "execute_result",
          "data": {
            "text/plain": [
              "    id                               name        lat        long  dock_count  \\\n",
              "0    2  San Jose Diridon Caltrain Station  37.329732 -121.901782          27   \n",
              "1    3              San Jose Civic Center  37.330698 -121.888979          15   \n",
              "2    4             Santa Clara at Almaden  37.333988 -121.894902          11   \n",
              "3    5                   Adobe on Almaden  37.331415 -121.893200          19   \n",
              "4    6                   San Pedro Square  37.336721 -121.894074          15   \n",
              "5    7               Paseo de San Antonio  37.333798 -121.886943          15   \n",
              "6    8                San Salvador at 1st  37.330165 -121.885831          15   \n",
              "7    9                          Japantown  37.348742 -121.894715          15   \n",
              "8   10                 San Jose City Hall  37.337391 -121.886995          15   \n",
              "9   11                        MLK Library  37.335885 -121.885660          19   \n",
              "10  12             SJSU 4th at San Carlos  37.332808 -121.883891          19   \n",
              "11  13                      St James Park  37.339301 -121.889937          15   \n",
              "12  14           Arena Green / SAP Center  37.332692 -121.900084          19   \n",
              "13  16         SJSU - San Salvador at 9th  37.333955 -121.877349          15   \n",
              "66  80    Santa Clara County Civic Center  37.352601 -121.905733          15   \n",
              "69  84                        Ryland Park  37.342725 -121.895617          15   \n",
              "\n",
              "        city installation_date  \n",
              "0   San Jose          8/6/2013  \n",
              "1   San Jose          8/5/2013  \n",
              "2   San Jose          8/6/2013  \n",
              "3   San Jose          8/5/2013  \n",
              "4   San Jose          8/7/2013  \n",
              "5   San Jose          8/7/2013  \n",
              "6   San Jose          8/5/2013  \n",
              "7   San Jose          8/5/2013  \n",
              "8   San Jose          8/6/2013  \n",
              "9   San Jose          8/6/2013  \n",
              "10  San Jose          8/7/2013  \n",
              "11  San Jose          8/6/2013  \n",
              "12  San Jose          8/5/2013  \n",
              "13  San Jose          8/7/2013  \n",
              "66  San Jose        12/31/2013  \n",
              "69  San Jose          4/9/2014  "
            ],
            "text/html": [
              "\n",
              "  <div id=\"df-8106eb56-17de-4902-8c92-8a96930cefbf\">\n",
              "    <div class=\"colab-df-container\">\n",
              "      <div>\n",
              "<style scoped>\n",
              "    .dataframe tbody tr th:only-of-type {\n",
              "        vertical-align: middle;\n",
              "    }\n",
              "\n",
              "    .dataframe tbody tr th {\n",
              "        vertical-align: top;\n",
              "    }\n",
              "\n",
              "    .dataframe thead th {\n",
              "        text-align: right;\n",
              "    }\n",
              "</style>\n",
              "<table border=\"1\" class=\"dataframe\">\n",
              "  <thead>\n",
              "    <tr style=\"text-align: right;\">\n",
              "      <th></th>\n",
              "      <th>id</th>\n",
              "      <th>name</th>\n",
              "      <th>lat</th>\n",
              "      <th>long</th>\n",
              "      <th>dock_count</th>\n",
              "      <th>city</th>\n",
              "      <th>installation_date</th>\n",
              "    </tr>\n",
              "  </thead>\n",
              "  <tbody>\n",
              "    <tr>\n",
              "      <th>0</th>\n",
              "      <td>2</td>\n",
              "      <td>San Jose Diridon Caltrain Station</td>\n",
              "      <td>37.329732</td>\n",
              "      <td>-121.901782</td>\n",
              "      <td>27</td>\n",
              "      <td>San Jose</td>\n",
              "      <td>8/6/2013</td>\n",
              "    </tr>\n",
              "    <tr>\n",
              "      <th>1</th>\n",
              "      <td>3</td>\n",
              "      <td>San Jose Civic Center</td>\n",
              "      <td>37.330698</td>\n",
              "      <td>-121.888979</td>\n",
              "      <td>15</td>\n",
              "      <td>San Jose</td>\n",
              "      <td>8/5/2013</td>\n",
              "    </tr>\n",
              "    <tr>\n",
              "      <th>2</th>\n",
              "      <td>4</td>\n",
              "      <td>Santa Clara at Almaden</td>\n",
              "      <td>37.333988</td>\n",
              "      <td>-121.894902</td>\n",
              "      <td>11</td>\n",
              "      <td>San Jose</td>\n",
              "      <td>8/6/2013</td>\n",
              "    </tr>\n",
              "    <tr>\n",
              "      <th>3</th>\n",
              "      <td>5</td>\n",
              "      <td>Adobe on Almaden</td>\n",
              "      <td>37.331415</td>\n",
              "      <td>-121.893200</td>\n",
              "      <td>19</td>\n",
              "      <td>San Jose</td>\n",
              "      <td>8/5/2013</td>\n",
              "    </tr>\n",
              "    <tr>\n",
              "      <th>4</th>\n",
              "      <td>6</td>\n",
              "      <td>San Pedro Square</td>\n",
              "      <td>37.336721</td>\n",
              "      <td>-121.894074</td>\n",
              "      <td>15</td>\n",
              "      <td>San Jose</td>\n",
              "      <td>8/7/2013</td>\n",
              "    </tr>\n",
              "    <tr>\n",
              "      <th>5</th>\n",
              "      <td>7</td>\n",
              "      <td>Paseo de San Antonio</td>\n",
              "      <td>37.333798</td>\n",
              "      <td>-121.886943</td>\n",
              "      <td>15</td>\n",
              "      <td>San Jose</td>\n",
              "      <td>8/7/2013</td>\n",
              "    </tr>\n",
              "    <tr>\n",
              "      <th>6</th>\n",
              "      <td>8</td>\n",
              "      <td>San Salvador at 1st</td>\n",
              "      <td>37.330165</td>\n",
              "      <td>-121.885831</td>\n",
              "      <td>15</td>\n",
              "      <td>San Jose</td>\n",
              "      <td>8/5/2013</td>\n",
              "    </tr>\n",
              "    <tr>\n",
              "      <th>7</th>\n",
              "      <td>9</td>\n",
              "      <td>Japantown</td>\n",
              "      <td>37.348742</td>\n",
              "      <td>-121.894715</td>\n",
              "      <td>15</td>\n",
              "      <td>San Jose</td>\n",
              "      <td>8/5/2013</td>\n",
              "    </tr>\n",
              "    <tr>\n",
              "      <th>8</th>\n",
              "      <td>10</td>\n",
              "      <td>San Jose City Hall</td>\n",
              "      <td>37.337391</td>\n",
              "      <td>-121.886995</td>\n",
              "      <td>15</td>\n",
              "      <td>San Jose</td>\n",
              "      <td>8/6/2013</td>\n",
              "    </tr>\n",
              "    <tr>\n",
              "      <th>9</th>\n",
              "      <td>11</td>\n",
              "      <td>MLK Library</td>\n",
              "      <td>37.335885</td>\n",
              "      <td>-121.885660</td>\n",
              "      <td>19</td>\n",
              "      <td>San Jose</td>\n",
              "      <td>8/6/2013</td>\n",
              "    </tr>\n",
              "    <tr>\n",
              "      <th>10</th>\n",
              "      <td>12</td>\n",
              "      <td>SJSU 4th at San Carlos</td>\n",
              "      <td>37.332808</td>\n",
              "      <td>-121.883891</td>\n",
              "      <td>19</td>\n",
              "      <td>San Jose</td>\n",
              "      <td>8/7/2013</td>\n",
              "    </tr>\n",
              "    <tr>\n",
              "      <th>11</th>\n",
              "      <td>13</td>\n",
              "      <td>St James Park</td>\n",
              "      <td>37.339301</td>\n",
              "      <td>-121.889937</td>\n",
              "      <td>15</td>\n",
              "      <td>San Jose</td>\n",
              "      <td>8/6/2013</td>\n",
              "    </tr>\n",
              "    <tr>\n",
              "      <th>12</th>\n",
              "      <td>14</td>\n",
              "      <td>Arena Green / SAP Center</td>\n",
              "      <td>37.332692</td>\n",
              "      <td>-121.900084</td>\n",
              "      <td>19</td>\n",
              "      <td>San Jose</td>\n",
              "      <td>8/5/2013</td>\n",
              "    </tr>\n",
              "    <tr>\n",
              "      <th>13</th>\n",
              "      <td>16</td>\n",
              "      <td>SJSU - San Salvador at 9th</td>\n",
              "      <td>37.333955</td>\n",
              "      <td>-121.877349</td>\n",
              "      <td>15</td>\n",
              "      <td>San Jose</td>\n",
              "      <td>8/7/2013</td>\n",
              "    </tr>\n",
              "    <tr>\n",
              "      <th>66</th>\n",
              "      <td>80</td>\n",
              "      <td>Santa Clara County Civic Center</td>\n",
              "      <td>37.352601</td>\n",
              "      <td>-121.905733</td>\n",
              "      <td>15</td>\n",
              "      <td>San Jose</td>\n",
              "      <td>12/31/2013</td>\n",
              "    </tr>\n",
              "    <tr>\n",
              "      <th>69</th>\n",
              "      <td>84</td>\n",
              "      <td>Ryland Park</td>\n",
              "      <td>37.342725</td>\n",
              "      <td>-121.895617</td>\n",
              "      <td>15</td>\n",
              "      <td>San Jose</td>\n",
              "      <td>4/9/2014</td>\n",
              "    </tr>\n",
              "  </tbody>\n",
              "</table>\n",
              "</div>\n",
              "      <button class=\"colab-df-convert\" onclick=\"convertToInteractive('df-8106eb56-17de-4902-8c92-8a96930cefbf')\"\n",
              "              title=\"Convert this dataframe to an interactive table.\"\n",
              "              style=\"display:none;\">\n",
              "        \n",
              "  <svg xmlns=\"http://www.w3.org/2000/svg\" height=\"24px\"viewBox=\"0 0 24 24\"\n",
              "       width=\"24px\">\n",
              "    <path d=\"M0 0h24v24H0V0z\" fill=\"none\"/>\n",
              "    <path d=\"M18.56 5.44l.94 2.06.94-2.06 2.06-.94-2.06-.94-.94-2.06-.94 2.06-2.06.94zm-11 1L8.5 8.5l.94-2.06 2.06-.94-2.06-.94L8.5 2.5l-.94 2.06-2.06.94zm10 10l.94 2.06.94-2.06 2.06-.94-2.06-.94-.94-2.06-.94 2.06-2.06.94z\"/><path d=\"M17.41 7.96l-1.37-1.37c-.4-.4-.92-.59-1.43-.59-.52 0-1.04.2-1.43.59L10.3 9.45l-7.72 7.72c-.78.78-.78 2.05 0 2.83L4 21.41c.39.39.9.59 1.41.59.51 0 1.02-.2 1.41-.59l7.78-7.78 2.81-2.81c.8-.78.8-2.07 0-2.86zM5.41 20L4 18.59l7.72-7.72 1.47 1.35L5.41 20z\"/>\n",
              "  </svg>\n",
              "      </button>\n",
              "      \n",
              "  <style>\n",
              "    .colab-df-container {\n",
              "      display:flex;\n",
              "      flex-wrap:wrap;\n",
              "      gap: 12px;\n",
              "    }\n",
              "\n",
              "    .colab-df-convert {\n",
              "      background-color: #E8F0FE;\n",
              "      border: none;\n",
              "      border-radius: 50%;\n",
              "      cursor: pointer;\n",
              "      display: none;\n",
              "      fill: #1967D2;\n",
              "      height: 32px;\n",
              "      padding: 0 0 0 0;\n",
              "      width: 32px;\n",
              "    }\n",
              "\n",
              "    .colab-df-convert:hover {\n",
              "      background-color: #E2EBFA;\n",
              "      box-shadow: 0px 1px 2px rgba(60, 64, 67, 0.3), 0px 1px 3px 1px rgba(60, 64, 67, 0.15);\n",
              "      fill: #174EA6;\n",
              "    }\n",
              "\n",
              "    [theme=dark] .colab-df-convert {\n",
              "      background-color: #3B4455;\n",
              "      fill: #D2E3FC;\n",
              "    }\n",
              "\n",
              "    [theme=dark] .colab-df-convert:hover {\n",
              "      background-color: #434B5C;\n",
              "      box-shadow: 0px 1px 3px 1px rgba(0, 0, 0, 0.15);\n",
              "      filter: drop-shadow(0px 1px 2px rgba(0, 0, 0, 0.3));\n",
              "      fill: #FFFFFF;\n",
              "    }\n",
              "  </style>\n",
              "\n",
              "      <script>\n",
              "        const buttonEl =\n",
              "          document.querySelector('#df-8106eb56-17de-4902-8c92-8a96930cefbf button.colab-df-convert');\n",
              "        buttonEl.style.display =\n",
              "          google.colab.kernel.accessAllowed ? 'block' : 'none';\n",
              "\n",
              "        async function convertToInteractive(key) {\n",
              "          const element = document.querySelector('#df-8106eb56-17de-4902-8c92-8a96930cefbf');\n",
              "          const dataTable =\n",
              "            await google.colab.kernel.invokeFunction('convertToInteractive',\n",
              "                                                     [key], {});\n",
              "          if (!dataTable) return;\n",
              "\n",
              "          const docLinkHtml = 'Like what you see? Visit the ' +\n",
              "            '<a target=\"_blank\" href=https://colab.research.google.com/notebooks/data_table.ipynb>data table notebook</a>'\n",
              "            + ' to learn more about interactive tables.';\n",
              "          element.innerHTML = '';\n",
              "          dataTable['output_type'] = 'display_data';\n",
              "          await google.colab.output.renderOutput(dataTable, element);\n",
              "          const docLink = document.createElement('div');\n",
              "          docLink.innerHTML = docLinkHtml;\n",
              "          element.appendChild(docLink);\n",
              "        }\n",
              "      </script>\n",
              "    </div>\n",
              "  </div>\n",
              "  "
            ]
          },
          "metadata": {},
          "execution_count": 75
        }
      ],
      "source": [
        "# Query Pandas DataFrame\n",
        "pandas_df.loc[pandas_df['city']== 'San Jose']"
      ]
    },
    {
      "cell_type": "markdown",
      "metadata": {
        "id": "BpTcnZFR2X4z"
      },
      "source": [
        "# Practice!\n",
        "**Note**: Read the Spark documentation and check Stack Overflow when you get stuck.\n",
        "\n",
        "<img src=\"https://media.giphy.com/media/8vkEKXvnXkyCZx8w6b/giphy.gif\"/>"
      ]
    },
    {
      "cell_type": "markdown",
      "metadata": {
        "id": "L7u8sNTB2ZSX"
      },
      "source": [
        "# Exercise 1:\n",
        "Read a file of your choice in JSON format and extract the first 10 rows\n",
        "<br/>\n",
        "**Note**: You will have to load the file in your data folder first\n",
        "\n",
        "\n",
        "Here, you can use the Iris flower dataset provided in JSON format:\n",
        "\n",
        "`s3a://msin0166-spark-workshop/data/iris_flowers_data/iris.json`"
      ]
    },
    {
      "cell_type": "code",
      "source": [],
      "metadata": {
        "id": "NNleqVl_KE8J"
      },
      "execution_count": null,
      "outputs": []
    },
    {
      "cell_type": "markdown",
      "metadata": {
        "id": "OU_zv_cZ2aHf"
      },
      "source": [
        "## Exercise 2:\n",
        "Create a new dataset by filtering your existing dataset. Use both the PySpark and Spark SQL functions shown in the **Practical examples** section\n",
        "\n",
        "Example: By using the Yelp dataset, create a dataframe consisting of top businesses (ranked with 4 stars or higher) listed on Yelp\n"
      ]
    },
    {
      "cell_type": "code",
      "source": [],
      "metadata": {
        "id": "e-VyVgd8KC0f"
      },
      "execution_count": null,
      "outputs": []
    },
    {
      "cell_type": "markdown",
      "metadata": {
        "id": "LePt_tKO2adg"
      },
      "source": [
        "## Exercise 3: Use Spark SQL and apply the GROUP BY statement to your existing dataset. "
      ]
    },
    {
      "cell_type": "code",
      "source": [],
      "metadata": {
        "id": "41MYtP-yJ8gp"
      },
      "execution_count": null,
      "outputs": []
    },
    {
      "cell_type": "markdown",
      "metadata": {
        "id": "nXl6-o7vn1BZ"
      },
      "source": [
        "## Exercise 4\n",
        "Create a sample dataset and programmatically specify its schema\n",
        "<br/>\n",
        "**Note**: Follow the code in the **Practical examples** section"
      ]
    },
    {
      "cell_type": "code",
      "source": [],
      "metadata": {
        "id": "chU3hUVAJ6kN"
      },
      "execution_count": null,
      "outputs": []
    },
    {
      "cell_type": "markdown",
      "metadata": {
        "id": "Vc_nLqUwYVXq"
      },
      "source": [
        "## Exercise 5 \n",
        "\n",
        "Count the number of records in your dataset by using a SQL query"
      ]
    },
    {
      "cell_type": "code",
      "source": [],
      "metadata": {
        "id": "cAoI7O9OJpqN"
      },
      "execution_count": null,
      "outputs": []
    },
    {
      "cell_type": "markdown",
      "metadata": {
        "id": "4ZeR7X7KX10_"
      },
      "source": [
        "#Extra exercise"
      ]
    },
    {
      "cell_type": "markdown",
      "metadata": {
        "id": "AyIEOHCvYMd0"
      },
      "source": [
        "## Exercise 6\n",
        "\n",
        "Convert a CSV file of choice to Parquet format by using PySpark.\n",
        "<br/>\n",
        "Read data from the Parquet file and select 50 rows of data.\n",
        "\n",
        "Note: Here, we used the weather.csv dataset from: [s3://msin0166-spark-workshop/data/sf_bike_sharing_data/weather.csv](s3://msin0166-spark-workshop/data/sf_bike_sharing_data/weather.csv) and that you can also get from: [https://www.kaggle.com/datasets/benhamner/sf-bay-area-bike-share](https://www.kaggle.com/datasets/benhamner/sf-bay-area-bike-share)"
      ]
    },
    {
      "cell_type": "code",
      "execution_count": null,
      "metadata": {
        "id": "CLAYyZt9YS-e"
      },
      "outputs": [],
      "source": []
    }
  ],
  "metadata": {
    "colab": {
      "provenance": [],
      "toc_visible": true
    },
    "kernelspec": {
      "display_name": "Python 3",
      "language": "python",
      "name": "python3"
    },
    "language_info": {
      "codemirror_mode": {
        "name": "ipython",
        "version": 3
      },
      "file_extension": ".py",
      "mimetype": "text/x-python",
      "name": "python",
      "nbconvert_exporter": "python",
      "pygments_lexer": "ipython3",
      "version": "3.11.1"
    },
    "vscode": {
      "interpreter": {
        "hash": "e7370f93d1d0cde622a1f8e1c04877d8463912d04d973331ad4851f04de6915a"
      }
    }
  },
  "nbformat": 4,
  "nbformat_minor": 0
}